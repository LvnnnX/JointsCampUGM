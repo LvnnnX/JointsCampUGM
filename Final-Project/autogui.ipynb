{
 "cells": [
  {
   "cell_type": "code",
   "execution_count": 6,
   "metadata": {},
   "outputs": [],
   "source": [
    "import time\n",
    "from PIL import ImageGrab  # screenshot\n",
    "\n",
    "import pytesseract\n",
    "from pytesseract import Output\n",
    "pytesseract.pytesseract.tesseract_cmd = (r\"C:\\Program Files\\Tesseract-OCR\\tesseract.exe\") # needed for Windows as OS\n",
    "\n",
    "screen =  ImageGrab.grab(bbox=(886,1073,1286,1173))  # screenshot\n",
    "cap = screen.convert('L')   # make grayscale\n",
    "\n",
    "screen.show()\n",
    "# data=pytesseract.image_to_boxes(cap,output_type=Output.DICT)\n",
    "\n",
    "# print(data)"
   ]
  },
  {
   "cell_type": "code",
   "execution_count": 4,
   "metadata": {},
   "outputs": [
    {
     "data": {
      "text/plain": [
       "Point(x=886, y=1073)"
      ]
     },
     "execution_count": 4,
     "metadata": {},
     "output_type": "execute_result"
    }
   ],
   "source": [
    "import pyautogui as pg\n",
    "pg.position()"
   ]
  }
 ],
 "metadata": {
  "kernelspec": {
   "display_name": "Python 3",
   "language": "python",
   "name": "python3"
  },
  "language_info": {
   "codemirror_mode": {
    "name": "ipython",
    "version": 3
   },
   "file_extension": ".py",
   "mimetype": "text/x-python",
   "name": "python",
   "nbconvert_exporter": "python",
   "pygments_lexer": "ipython3",
   "version": "3.10.7"
  },
  "orig_nbformat": 4
 },
 "nbformat": 4,
 "nbformat_minor": 2
}
