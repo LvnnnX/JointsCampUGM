{
 "cells": [
  {
   "cell_type": "code",
   "execution_count": 2,
   "metadata": {},
   "outputs": [],
   "source": [
    "import pandas as pd\n",
    "import numpy as np\n",
    "import matplotlib.pyplot as plt\n",
    "import seaborn as sns"
   ]
  },
  {
   "cell_type": "code",
   "execution_count": 3,
   "metadata": {},
   "outputs": [],
   "source": [
    "#import dataframe\n",
    "breast = pd.read_csv('https://archive.ics.uci.edu/ml/machine-learning-databases/breast-cancer/breast-cancer.data', \n",
    "                     names=['Class','age','menopause','tumor-size','inv-nodes','node-cap','deg-malig','breast','breast-quad','irradiat'])"
   ]
  },
  {
   "cell_type": "code",
   "execution_count": 4,
   "metadata": {},
   "outputs": [
    {
     "data": {
      "text/html": [
       "<div>\n",
       "<style scoped>\n",
       "    .dataframe tbody tr th:only-of-type {\n",
       "        vertical-align: middle;\n",
       "    }\n",
       "\n",
       "    .dataframe tbody tr th {\n",
       "        vertical-align: top;\n",
       "    }\n",
       "\n",
       "    .dataframe thead th {\n",
       "        text-align: right;\n",
       "    }\n",
       "</style>\n",
       "<table border=\"1\" class=\"dataframe\">\n",
       "  <thead>\n",
       "    <tr style=\"text-align: right;\">\n",
       "      <th></th>\n",
       "      <th>Class</th>\n",
       "      <th>age</th>\n",
       "      <th>menopause</th>\n",
       "      <th>tumor-size</th>\n",
       "      <th>inv-nodes</th>\n",
       "      <th>node-cap</th>\n",
       "      <th>deg-malig</th>\n",
       "      <th>breast</th>\n",
       "      <th>breast-quad</th>\n",
       "      <th>irradiat</th>\n",
       "    </tr>\n",
       "  </thead>\n",
       "  <tbody>\n",
       "    <tr>\n",
       "      <th>0</th>\n",
       "      <td>no-recurrence-events</td>\n",
       "      <td>30-39</td>\n",
       "      <td>premeno</td>\n",
       "      <td>30-34</td>\n",
       "      <td>0-2</td>\n",
       "      <td>no</td>\n",
       "      <td>3</td>\n",
       "      <td>left</td>\n",
       "      <td>left_low</td>\n",
       "      <td>no</td>\n",
       "    </tr>\n",
       "    <tr>\n",
       "      <th>1</th>\n",
       "      <td>no-recurrence-events</td>\n",
       "      <td>40-49</td>\n",
       "      <td>premeno</td>\n",
       "      <td>20-24</td>\n",
       "      <td>0-2</td>\n",
       "      <td>no</td>\n",
       "      <td>2</td>\n",
       "      <td>right</td>\n",
       "      <td>right_up</td>\n",
       "      <td>no</td>\n",
       "    </tr>\n",
       "    <tr>\n",
       "      <th>2</th>\n",
       "      <td>no-recurrence-events</td>\n",
       "      <td>40-49</td>\n",
       "      <td>premeno</td>\n",
       "      <td>20-24</td>\n",
       "      <td>0-2</td>\n",
       "      <td>no</td>\n",
       "      <td>2</td>\n",
       "      <td>left</td>\n",
       "      <td>left_low</td>\n",
       "      <td>no</td>\n",
       "    </tr>\n",
       "    <tr>\n",
       "      <th>3</th>\n",
       "      <td>no-recurrence-events</td>\n",
       "      <td>60-69</td>\n",
       "      <td>ge40</td>\n",
       "      <td>15-19</td>\n",
       "      <td>0-2</td>\n",
       "      <td>no</td>\n",
       "      <td>2</td>\n",
       "      <td>right</td>\n",
       "      <td>left_up</td>\n",
       "      <td>no</td>\n",
       "    </tr>\n",
       "    <tr>\n",
       "      <th>4</th>\n",
       "      <td>no-recurrence-events</td>\n",
       "      <td>40-49</td>\n",
       "      <td>premeno</td>\n",
       "      <td>0-4</td>\n",
       "      <td>0-2</td>\n",
       "      <td>no</td>\n",
       "      <td>2</td>\n",
       "      <td>right</td>\n",
       "      <td>right_low</td>\n",
       "      <td>no</td>\n",
       "    </tr>\n",
       "  </tbody>\n",
       "</table>\n",
       "</div>"
      ],
      "text/plain": [
       "                  Class    age menopause tumor-size inv-nodes node-cap  \\\n",
       "0  no-recurrence-events  30-39   premeno      30-34       0-2       no   \n",
       "1  no-recurrence-events  40-49   premeno      20-24       0-2       no   \n",
       "2  no-recurrence-events  40-49   premeno      20-24       0-2       no   \n",
       "3  no-recurrence-events  60-69      ge40      15-19       0-2       no   \n",
       "4  no-recurrence-events  40-49   premeno        0-4       0-2       no   \n",
       "\n",
       "   deg-malig breast breast-quad irradiat  \n",
       "0          3   left    left_low       no  \n",
       "1          2  right    right_up       no  \n",
       "2          2   left    left_low       no  \n",
       "3          2  right     left_up       no  \n",
       "4          2  right   right_low       no  "
      ]
     },
     "execution_count": 4,
     "metadata": {},
     "output_type": "execute_result"
    }
   ],
   "source": [
    "breast.head()"
   ]
  },
  {
   "cell_type": "code",
   "execution_count": 5,
   "metadata": {},
   "outputs": [
    {
     "name": "stdout",
     "output_type": "stream",
     "text": [
      "<class 'pandas.core.frame.DataFrame'>\n",
      "RangeIndex: 286 entries, 0 to 285\n",
      "Data columns (total 10 columns):\n",
      " #   Column       Non-Null Count  Dtype \n",
      "---  ------       --------------  ----- \n",
      " 0   Class        286 non-null    object\n",
      " 1   age          286 non-null    object\n",
      " 2   menopause    286 non-null    object\n",
      " 3   tumor-size   286 non-null    object\n",
      " 4   inv-nodes    286 non-null    object\n",
      " 5   node-cap     286 non-null    object\n",
      " 6   deg-malig    286 non-null    int64 \n",
      " 7   breast       286 non-null    object\n",
      " 8   breast-quad  286 non-null    object\n",
      " 9   irradiat     286 non-null    object\n",
      "dtypes: int64(1), object(9)\n",
      "memory usage: 22.5+ KB\n"
     ]
    }
   ],
   "source": [
    "#Dataset Information\n",
    "breast.info()"
   ]
  },
  {
   "cell_type": "code",
   "execution_count": 6,
   "metadata": {},
   "outputs": [
    {
     "data": {
      "text/plain": [
       "Class          0\n",
       "age            0\n",
       "menopause      0\n",
       "tumor-size     0\n",
       "inv-nodes      0\n",
       "node-cap       0\n",
       "deg-malig      0\n",
       "breast         0\n",
       "breast-quad    0\n",
       "irradiat       0\n",
       "dtype: int64"
      ]
     },
     "execution_count": 6,
     "metadata": {},
     "output_type": "execute_result"
    }
   ],
   "source": [
    "#cek jumlah null\n",
    "breast.isnull().sum()"
   ]
  },
  {
   "cell_type": "code",
   "execution_count": 7,
   "metadata": {},
   "outputs": [
    {
     "data": {
      "text/html": [
       "<div>\n",
       "<style scoped>\n",
       "    .dataframe tbody tr th:only-of-type {\n",
       "        vertical-align: middle;\n",
       "    }\n",
       "\n",
       "    .dataframe tbody tr th {\n",
       "        vertical-align: top;\n",
       "    }\n",
       "\n",
       "    .dataframe thead th {\n",
       "        text-align: right;\n",
       "    }\n",
       "</style>\n",
       "<table border=\"1\" class=\"dataframe\">\n",
       "  <thead>\n",
       "    <tr style=\"text-align: right;\">\n",
       "      <th></th>\n",
       "      <th>deg-malig</th>\n",
       "    </tr>\n",
       "  </thead>\n",
       "  <tbody>\n",
       "    <tr>\n",
       "      <th>count</th>\n",
       "      <td>286.000000</td>\n",
       "    </tr>\n",
       "    <tr>\n",
       "      <th>mean</th>\n",
       "      <td>2.048951</td>\n",
       "    </tr>\n",
       "    <tr>\n",
       "      <th>std</th>\n",
       "      <td>0.738217</td>\n",
       "    </tr>\n",
       "    <tr>\n",
       "      <th>min</th>\n",
       "      <td>1.000000</td>\n",
       "    </tr>\n",
       "    <tr>\n",
       "      <th>25%</th>\n",
       "      <td>2.000000</td>\n",
       "    </tr>\n",
       "    <tr>\n",
       "      <th>50%</th>\n",
       "      <td>2.000000</td>\n",
       "    </tr>\n",
       "    <tr>\n",
       "      <th>75%</th>\n",
       "      <td>3.000000</td>\n",
       "    </tr>\n",
       "    <tr>\n",
       "      <th>max</th>\n",
       "      <td>3.000000</td>\n",
       "    </tr>\n",
       "  </tbody>\n",
       "</table>\n",
       "</div>"
      ],
      "text/plain": [
       "        deg-malig\n",
       "count  286.000000\n",
       "mean     2.048951\n",
       "std      0.738217\n",
       "min      1.000000\n",
       "25%      2.000000\n",
       "50%      2.000000\n",
       "75%      3.000000\n",
       "max      3.000000"
      ]
     },
     "execution_count": 7,
     "metadata": {},
     "output_type": "execute_result"
    }
   ],
   "source": [
    "#statistik deskriptif\n",
    "breast.describe() #numerik"
   ]
  },
  {
   "cell_type": "code",
   "execution_count": 8,
   "metadata": {},
   "outputs": [
    {
     "data": {
      "text/html": [
       "<div>\n",
       "<style scoped>\n",
       "    .dataframe tbody tr th:only-of-type {\n",
       "        vertical-align: middle;\n",
       "    }\n",
       "\n",
       "    .dataframe tbody tr th {\n",
       "        vertical-align: top;\n",
       "    }\n",
       "\n",
       "    .dataframe thead th {\n",
       "        text-align: right;\n",
       "    }\n",
       "</style>\n",
       "<table border=\"1\" class=\"dataframe\">\n",
       "  <thead>\n",
       "    <tr style=\"text-align: right;\">\n",
       "      <th></th>\n",
       "      <th>Class</th>\n",
       "      <th>age</th>\n",
       "      <th>menopause</th>\n",
       "      <th>tumor-size</th>\n",
       "      <th>inv-nodes</th>\n",
       "      <th>node-cap</th>\n",
       "      <th>breast</th>\n",
       "      <th>breast-quad</th>\n",
       "      <th>irradiat</th>\n",
       "    </tr>\n",
       "  </thead>\n",
       "  <tbody>\n",
       "    <tr>\n",
       "      <th>count</th>\n",
       "      <td>286</td>\n",
       "      <td>286</td>\n",
       "      <td>286</td>\n",
       "      <td>286</td>\n",
       "      <td>286</td>\n",
       "      <td>286</td>\n",
       "      <td>286</td>\n",
       "      <td>286</td>\n",
       "      <td>286</td>\n",
       "    </tr>\n",
       "    <tr>\n",
       "      <th>unique</th>\n",
       "      <td>2</td>\n",
       "      <td>6</td>\n",
       "      <td>3</td>\n",
       "      <td>11</td>\n",
       "      <td>7</td>\n",
       "      <td>3</td>\n",
       "      <td>2</td>\n",
       "      <td>6</td>\n",
       "      <td>2</td>\n",
       "    </tr>\n",
       "    <tr>\n",
       "      <th>top</th>\n",
       "      <td>no-recurrence-events</td>\n",
       "      <td>50-59</td>\n",
       "      <td>premeno</td>\n",
       "      <td>30-34</td>\n",
       "      <td>0-2</td>\n",
       "      <td>no</td>\n",
       "      <td>left</td>\n",
       "      <td>left_low</td>\n",
       "      <td>no</td>\n",
       "    </tr>\n",
       "    <tr>\n",
       "      <th>freq</th>\n",
       "      <td>201</td>\n",
       "      <td>96</td>\n",
       "      <td>150</td>\n",
       "      <td>60</td>\n",
       "      <td>213</td>\n",
       "      <td>222</td>\n",
       "      <td>152</td>\n",
       "      <td>110</td>\n",
       "      <td>218</td>\n",
       "    </tr>\n",
       "  </tbody>\n",
       "</table>\n",
       "</div>"
      ],
      "text/plain": [
       "                       Class    age menopause tumor-size inv-nodes node-cap  \\\n",
       "count                    286    286       286        286       286      286   \n",
       "unique                     2      6         3         11         7        3   \n",
       "top     no-recurrence-events  50-59   premeno      30-34       0-2       no   \n",
       "freq                     201     96       150         60       213      222   \n",
       "\n",
       "       breast breast-quad irradiat  \n",
       "count     286         286      286  \n",
       "unique      2           6        2  \n",
       "top      left    left_low       no  \n",
       "freq      152         110      218  "
      ]
     },
     "execution_count": 8,
     "metadata": {},
     "output_type": "execute_result"
    }
   ],
   "source": [
    "breast.describe(include=['O']) #data kategorikal"
   ]
  },
  {
   "cell_type": "code",
   "execution_count": 9,
   "metadata": {},
   "outputs": [],
   "source": [
    "X = breast.iloc[:,1:]\n",
    "y = breast.iloc[:,0]"
   ]
  },
  {
   "cell_type": "markdown",
   "metadata": {},
   "source": [
    "Train test split"
   ]
  },
  {
   "cell_type": "code",
   "execution_count": 10,
   "metadata": {},
   "outputs": [],
   "source": [
    "#Train test split\n",
    "from sklearn.model_selection import train_test_split\n",
    "X_train,X_test,y_train,y_test = train_test_split(X,y,test_size=0.2)"
   ]
  },
  {
   "cell_type": "code",
   "execution_count": 11,
   "metadata": {},
   "outputs": [
    {
     "data": {
      "text/plain": [
       "SimpleImputer(strategy='most_frequent')"
      ]
     },
     "execution_count": 11,
     "metadata": {},
     "output_type": "execute_result"
    }
   ],
   "source": [
    "#Data preparation (Missing Value)\n",
    "from sklearn.impute import SimpleImputer\n",
    "imputer = SimpleImputer(missing_values=np.nan, strategy='most_frequent')\n",
    "imputer.fit(X_train)"
   ]
  },
  {
   "cell_type": "code",
   "execution_count": 12,
   "metadata": {},
   "outputs": [],
   "source": [
    "#imputing nan value\n",
    "X_train = imputer.transform(X_train)\n",
    "X_test = imputer.transform(X_test)"
   ]
  },
  {
   "cell_type": "code",
   "execution_count": 13,
   "metadata": {},
   "outputs": [],
   "source": [
    "#Encoding (Kategorikal -> Numeric)\n",
    "#One Hot Encoding\n",
    "from sklearn.preprocessing import OneHotEncoder\n",
    "encoder = OneHotEncoder(handle_unknown='ignore')\n",
    "encoder.fit(X_train)\n",
    "\n",
    "X_train = encoder.transform(X_train)\n",
    "X_test = encoder.transform(X_test)"
   ]
  },
  {
   "cell_type": "code",
   "execution_count": 14,
   "metadata": {},
   "outputs": [
    {
     "data": {
      "text/plain": [
       "<228x42 sparse matrix of type '<class 'numpy.float64'>'\n",
       "\twith 2052 stored elements in Compressed Sparse Row format>"
      ]
     },
     "execution_count": 14,
     "metadata": {},
     "output_type": "execute_result"
    }
   ],
   "source": [
    "X_train"
   ]
  },
  {
   "cell_type": "code",
   "execution_count": 15,
   "metadata": {},
   "outputs": [
    {
     "data": {
      "text/plain": [
       "LogisticRegression()"
      ]
     },
     "execution_count": 15,
     "metadata": {},
     "output_type": "execute_result"
    }
   ],
   "source": [
    "#model selection (logistic)\n",
    "from sklearn.linear_model import LogisticRegression\n",
    "logreg = LogisticRegression()\n",
    "logreg.fit(X_train,y_train)"
   ]
  },
  {
   "cell_type": "code",
   "execution_count": 16,
   "metadata": {},
   "outputs": [],
   "source": [
    "#predicting\n",
    "y_pred_logreg = logreg.predict(X_test)"
   ]
  },
  {
   "cell_type": "code",
   "execution_count": 17,
   "metadata": {},
   "outputs": [
    {
     "name": "stdout",
     "output_type": "stream",
     "text": [
      "                      precision    recall  f1-score   support\n",
      "\n",
      "no-recurrence-events       0.90      0.75      0.82        51\n",
      "   recurrence-events       0.19      0.43      0.26         7\n",
      "\n",
      "            accuracy                           0.71        58\n",
      "           macro avg       0.55      0.59      0.54        58\n",
      "        weighted avg       0.82      0.71      0.75        58\n",
      "\n"
     ]
    }
   ],
   "source": [
    "#Model evaluation (logreg)\n",
    "from sklearn.metrics import classification_report\n",
    "print(classification_report(y_pred_logreg,y_test))"
   ]
  },
  {
   "cell_type": "code",
   "execution_count": 18,
   "metadata": {},
   "outputs": [
    {
     "data": {
      "text/plain": [
       "array([0.73913043, 0.7173913 , 0.7173913 , 0.66666667, 0.73333333])"
      ]
     },
     "execution_count": 18,
     "metadata": {},
     "output_type": "execute_result"
    }
   ],
   "source": [
    "#Cross validation \n",
    "from sklearn.model_selection import cross_val_score\n",
    "cross_val_score(logreg,X_train, y_train, cv=5)"
   ]
  },
  {
   "cell_type": "code",
   "execution_count": 19,
   "metadata": {},
   "outputs": [],
   "source": [
    "from sklearn.tree import DecisionTreeClassifier\n",
    "from sklearn.svm import SVC\n",
    "from sklearn.ensemble import RandomForestClassifier\n",
    "from sklearn.neighbors import KNeighborsClassifier"
   ]
  },
  {
   "cell_type": "code",
   "execution_count": 20,
   "metadata": {},
   "outputs": [
    {
     "data": {
      "text/plain": [
       "RandomForestClassifier()"
      ]
     },
     "execution_count": 20,
     "metadata": {},
     "output_type": "execute_result"
    }
   ],
   "source": [
    "svc = SVC()\n",
    "tree = DecisionTreeClassifier()\n",
    "forest = RandomForestClassifier()\n",
    "\n",
    "svc.fit(X_train,y_train)\n",
    "tree.fit(X_train,y_train)\n",
    "forest.fit(X_train,y_train)"
   ]
  },
  {
   "cell_type": "code",
   "execution_count": 21,
   "metadata": {},
   "outputs": [],
   "source": [
    "y_pred_svc = svc.predict(X_test)\n",
    "y_pred_tree = tree.predict(X_test)\n",
    "y_pred_forest = forest.predict(X_test)"
   ]
  },
  {
   "cell_type": "code",
   "execution_count": 22,
   "metadata": {},
   "outputs": [
    {
     "name": "stdout",
     "output_type": "stream",
     "text": [
      "                      precision    recall  f1-score   support\n",
      "\n",
      "no-recurrence-events       1.00      0.76      0.87        55\n",
      "   recurrence-events       0.19      1.00      0.32         3\n",
      "\n",
      "            accuracy                           0.78        58\n",
      "           macro avg       0.59      0.88      0.59        58\n",
      "        weighted avg       0.96      0.78      0.84        58\n",
      "\n"
     ]
    }
   ],
   "source": [
    "#Model evaluation\n",
    "print(classification_report(y_pred_svc, y_test)) #kita pilih svc karena random forest dikhawatirkan akan berat"
   ]
  },
  {
   "cell_type": "code",
   "execution_count": 23,
   "metadata": {},
   "outputs": [
    {
     "name": "stdout",
     "output_type": "stream",
     "text": [
      "                      precision    recall  f1-score   support\n",
      "\n",
      "no-recurrence-events       0.71      0.73      0.72        41\n",
      "   recurrence-events       0.31      0.29      0.30        17\n",
      "\n",
      "            accuracy                           0.60        58\n",
      "           macro avg       0.51      0.51      0.51        58\n",
      "        weighted avg       0.60      0.60      0.60        58\n",
      "\n"
     ]
    }
   ],
   "source": [
    "print(classification_report(y_pred_tree, y_test))"
   ]
  },
  {
   "cell_type": "code",
   "execution_count": 24,
   "metadata": {},
   "outputs": [
    {
     "name": "stdout",
     "output_type": "stream",
     "text": [
      "                      precision    recall  f1-score   support\n",
      "\n",
      "no-recurrence-events       0.95      0.77      0.85        52\n",
      "   recurrence-events       0.25      0.67      0.36         6\n",
      "\n",
      "            accuracy                           0.76        58\n",
      "           macro avg       0.60      0.72      0.61        58\n",
      "        weighted avg       0.88      0.76      0.80        58\n",
      "\n"
     ]
    }
   ],
   "source": [
    "print(classification_report(y_pred_forest,y_test))"
   ]
  },
  {
   "cell_type": "code",
   "execution_count": 25,
   "metadata": {},
   "outputs": [
    {
     "name": "stdout",
     "output_type": "stream",
     "text": [
      "                      precision    recall  f1-score   support\n",
      "\n",
      "no-recurrence-events       0.98      0.77      0.86        53\n",
      "   recurrence-events       0.25      0.80      0.38         5\n",
      "\n",
      "            accuracy                           0.78        58\n",
      "           macro avg       0.61      0.79      0.62        58\n",
      "        weighted avg       0.91      0.78      0.82        58\n",
      "\n"
     ]
    }
   ],
   "source": [
    "#hyper parameter tuning\n",
    "svc_linear = SVC(kernel='poly')\n",
    "svc_linear.fit(X_train,y_train)\n",
    "y_pred_svcl = svc_linear.predict(X_test)\n",
    "print(classification_report(y_pred_svcl, y_test))"
   ]
  },
  {
   "cell_type": "code",
   "execution_count": 26,
   "metadata": {},
   "outputs": [],
   "source": [
    "#Hyper Param tuning\n",
    "from sklearn.model_selection import GridSearchCV\n",
    "params = {\n",
    "    'C' : (0.1,0.5,1.0,10),\n",
    "    'kernel' : ('linear','poly','sigmoid','rbf')\n",
    "}"
   ]
  },
  {
   "cell_type": "code",
   "execution_count": 27,
   "metadata": {},
   "outputs": [],
   "source": [
    "svc_grid = GridSearchCV(svc, param_grid=params, cv=5)"
   ]
  },
  {
   "cell_type": "code",
   "execution_count": 28,
   "metadata": {},
   "outputs": [
    {
     "data": {
      "text/plain": [
       "GridSearchCV(cv=5, estimator=SVC(),\n",
       "             param_grid={'C': (0.1, 0.5, 1.0, 10),\n",
       "                         'kernel': ('linear', 'poly', 'sigmoid', 'rbf')})"
      ]
     },
     "execution_count": 28,
     "metadata": {},
     "output_type": "execute_result"
    }
   ],
   "source": [
    "svc_grid.fit(X_train,y_train)\n"
   ]
  },
  {
   "cell_type": "code",
   "execution_count": 29,
   "metadata": {},
   "outputs": [
    {
     "data": {
      "text/plain": [
       "0.7762318840579709"
      ]
     },
     "execution_count": 29,
     "metadata": {},
     "output_type": "execute_result"
    }
   ],
   "source": [
    "svc_grid.best_score_"
   ]
  },
  {
   "cell_type": "code",
   "execution_count": 30,
   "metadata": {},
   "outputs": [
    {
     "data": {
      "text/plain": [
       "{'C': 1.0, 'kernel': 'poly'}"
      ]
     },
     "execution_count": 30,
     "metadata": {},
     "output_type": "execute_result"
    }
   ],
   "source": [
    "svc_grid.best_params_"
   ]
  },
  {
   "cell_type": "code",
   "execution_count": 31,
   "metadata": {},
   "outputs": [],
   "source": [
    "from pycaret.classification import *\n",
    "s = setup(breast, target='Class')"
   ]
  },
  {
   "cell_type": "code",
   "execution_count": 32,
   "metadata": {},
   "outputs": [
    {
     "data": {
      "text/html": [
       "<div>\n",
       "<style scoped>\n",
       "    .dataframe tbody tr th:only-of-type {\n",
       "        vertical-align: middle;\n",
       "    }\n",
       "\n",
       "    .dataframe tbody tr th {\n",
       "        vertical-align: top;\n",
       "    }\n",
       "\n",
       "    .dataframe thead th {\n",
       "        text-align: right;\n",
       "    }\n",
       "</style>\n",
       "<table border=\"1\" class=\"dataframe\">\n",
       "  <thead>\n",
       "    <tr style=\"text-align: right;\">\n",
       "      <th></th>\n",
       "      <th></th>\n",
       "      <th></th>\n",
       "    </tr>\n",
       "    <tr>\n",
       "      <th></th>\n",
       "      <th></th>\n",
       "      <th></th>\n",
       "    </tr>\n",
       "  </thead>\n",
       "  <tbody>\n",
       "    <tr>\n",
       "      <th>Initiated</th>\n",
       "      <td>. . . . . . . . . . . . . . . . . .</td>\n",
       "      <td>15:14:36</td>\n",
       "    </tr>\n",
       "    <tr>\n",
       "      <th>Status</th>\n",
       "      <td>. . . . . . . . . . . . . . . . . .</td>\n",
       "      <td>Loading Estimator</td>\n",
       "    </tr>\n",
       "    <tr>\n",
       "      <th>Estimator</th>\n",
       "      <td>. . . . . . . . . . . . . . . . . .</td>\n",
       "      <td>Logistic Regression</td>\n",
       "    </tr>\n",
       "  </tbody>\n",
       "</table>\n",
       "</div>"
      ],
      "text/plain": [
       "                                                                   \n",
       "                                                                   \n",
       "Initiated  . . . . . . . . . . . . . . . . . .             15:14:36\n",
       "Status     . . . . . . . . . . . . . . . . . .    Loading Estimator\n",
       "Estimator  . . . . . . . . . . . . . . . . . .  Logistic Regression"
      ]
     },
     "metadata": {},
     "output_type": "display_data"
    },
    {
     "data": {
      "text/html": [
       "<style type=\"text/css\">\n",
       "#T_f1172 th {\n",
       "  text-align: left;\n",
       "}\n",
       "#T_f1172_row0_col0, #T_f1172_row0_col3, #T_f1172_row1_col0, #T_f1172_row1_col1, #T_f1172_row1_col2, #T_f1172_row1_col3, #T_f1172_row1_col4, #T_f1172_row1_col5, #T_f1172_row1_col6, #T_f1172_row1_col7, #T_f1172_row2_col0, #T_f1172_row2_col1, #T_f1172_row2_col2, #T_f1172_row2_col3, #T_f1172_row2_col4, #T_f1172_row2_col5, #T_f1172_row2_col6, #T_f1172_row2_col7, #T_f1172_row3_col0, #T_f1172_row3_col1, #T_f1172_row3_col2, #T_f1172_row3_col3, #T_f1172_row3_col4, #T_f1172_row3_col5, #T_f1172_row3_col6, #T_f1172_row3_col7, #T_f1172_row4_col0, #T_f1172_row4_col1, #T_f1172_row4_col2, #T_f1172_row4_col3, #T_f1172_row4_col4, #T_f1172_row4_col5, #T_f1172_row4_col6, #T_f1172_row4_col7, #T_f1172_row5_col0, #T_f1172_row5_col1, #T_f1172_row5_col2, #T_f1172_row5_col3, #T_f1172_row5_col4, #T_f1172_row5_col5, #T_f1172_row5_col6, #T_f1172_row5_col7, #T_f1172_row6_col0, #T_f1172_row6_col1, #T_f1172_row6_col2, #T_f1172_row6_col3, #T_f1172_row6_col4, #T_f1172_row6_col5, #T_f1172_row6_col6, #T_f1172_row6_col7, #T_f1172_row7_col0, #T_f1172_row7_col1, #T_f1172_row7_col2, #T_f1172_row7_col3, #T_f1172_row7_col4, #T_f1172_row7_col5, #T_f1172_row7_col6, #T_f1172_row7_col7, #T_f1172_row8_col0, #T_f1172_row8_col1, #T_f1172_row8_col2, #T_f1172_row8_col3, #T_f1172_row8_col4, #T_f1172_row8_col5, #T_f1172_row8_col6, #T_f1172_row8_col7, #T_f1172_row9_col0, #T_f1172_row9_col1, #T_f1172_row9_col2, #T_f1172_row9_col3, #T_f1172_row9_col4, #T_f1172_row9_col5, #T_f1172_row9_col6, #T_f1172_row9_col7, #T_f1172_row10_col0, #T_f1172_row10_col1, #T_f1172_row10_col2, #T_f1172_row10_col4, #T_f1172_row10_col5, #T_f1172_row10_col6, #T_f1172_row10_col7, #T_f1172_row11_col0, #T_f1172_row11_col1, #T_f1172_row11_col2, #T_f1172_row11_col3, #T_f1172_row11_col4, #T_f1172_row11_col5, #T_f1172_row11_col6, #T_f1172_row11_col7, #T_f1172_row12_col0, #T_f1172_row12_col1, #T_f1172_row12_col2, #T_f1172_row12_col3, #T_f1172_row12_col4, #T_f1172_row12_col5, #T_f1172_row12_col6, #T_f1172_row12_col7, #T_f1172_row13_col0, #T_f1172_row13_col1, #T_f1172_row13_col2, #T_f1172_row13_col3, #T_f1172_row13_col4, #T_f1172_row13_col5, #T_f1172_row13_col6, #T_f1172_row13_col7 {\n",
       "  text-align: left;\n",
       "}\n",
       "#T_f1172_row0_col1, #T_f1172_row0_col2, #T_f1172_row0_col4, #T_f1172_row0_col5, #T_f1172_row0_col6, #T_f1172_row0_col7, #T_f1172_row10_col3 {\n",
       "  text-align: left;\n",
       "  background-color: yellow;\n",
       "}\n",
       "#T_f1172_row0_col8, #T_f1172_row1_col8, #T_f1172_row2_col8, #T_f1172_row3_col8, #T_f1172_row4_col8, #T_f1172_row5_col8, #T_f1172_row6_col8, #T_f1172_row7_col8, #T_f1172_row9_col8, #T_f1172_row10_col8, #T_f1172_row11_col8, #T_f1172_row12_col8, #T_f1172_row13_col8 {\n",
       "  text-align: left;\n",
       "  background-color: lightgrey;\n",
       "}\n",
       "#T_f1172_row8_col8 {\n",
       "  text-align: left;\n",
       "  background-color: yellow;\n",
       "  background-color: lightgrey;\n",
       "}\n",
       "</style>\n",
       "<table id=\"T_f1172\">\n",
       "  <thead>\n",
       "    <tr>\n",
       "      <th class=\"blank level0\" >&nbsp;</th>\n",
       "      <th id=\"T_f1172_level0_col0\" class=\"col_heading level0 col0\" >Model</th>\n",
       "      <th id=\"T_f1172_level0_col1\" class=\"col_heading level0 col1\" >Accuracy</th>\n",
       "      <th id=\"T_f1172_level0_col2\" class=\"col_heading level0 col2\" >AUC</th>\n",
       "      <th id=\"T_f1172_level0_col3\" class=\"col_heading level0 col3\" >Recall</th>\n",
       "      <th id=\"T_f1172_level0_col4\" class=\"col_heading level0 col4\" >Prec.</th>\n",
       "      <th id=\"T_f1172_level0_col5\" class=\"col_heading level0 col5\" >F1</th>\n",
       "      <th id=\"T_f1172_level0_col6\" class=\"col_heading level0 col6\" >Kappa</th>\n",
       "      <th id=\"T_f1172_level0_col7\" class=\"col_heading level0 col7\" >MCC</th>\n",
       "      <th id=\"T_f1172_level0_col8\" class=\"col_heading level0 col8\" >TT (Sec)</th>\n",
       "    </tr>\n",
       "  </thead>\n",
       "  <tbody>\n",
       "    <tr>\n",
       "      <th id=\"T_f1172_level0_row0\" class=\"row_heading level0 row0\" >knn</th>\n",
       "      <td id=\"T_f1172_row0_col0\" class=\"data row0 col0\" >K Neighbors Classifier</td>\n",
       "      <td id=\"T_f1172_row0_col1\" class=\"data row0 col1\" >0.7650</td>\n",
       "      <td id=\"T_f1172_row0_col2\" class=\"data row0 col2\" >0.6254</td>\n",
       "      <td id=\"T_f1172_row0_col3\" class=\"data row0 col3\" >0.3567</td>\n",
       "      <td id=\"T_f1172_row0_col4\" class=\"data row0 col4\" >0.7833</td>\n",
       "      <td id=\"T_f1172_row0_col5\" class=\"data row0 col5\" >0.4568</td>\n",
       "      <td id=\"T_f1172_row0_col6\" class=\"data row0 col6\" >0.3373</td>\n",
       "      <td id=\"T_f1172_row0_col7\" class=\"data row0 col7\" >0.3919</td>\n",
       "      <td id=\"T_f1172_row0_col8\" class=\"data row0 col8\" >0.2930</td>\n",
       "    </tr>\n",
       "    <tr>\n",
       "      <th id=\"T_f1172_level0_row1\" class=\"row_heading level0 row1\" >rf</th>\n",
       "      <td id=\"T_f1172_row1_col0\" class=\"data row1 col0\" >Random Forest Classifier</td>\n",
       "      <td id=\"T_f1172_row1_col1\" class=\"data row1 col1\" >0.7200</td>\n",
       "      <td id=\"T_f1172_row1_col2\" class=\"data row1 col2\" >0.5698</td>\n",
       "      <td id=\"T_f1172_row1_col3\" class=\"data row1 col3\" >0.2900</td>\n",
       "      <td id=\"T_f1172_row1_col4\" class=\"data row1 col4\" >0.4750</td>\n",
       "      <td id=\"T_f1172_row1_col5\" class=\"data row1 col5\" >0.3495</td>\n",
       "      <td id=\"T_f1172_row1_col6\" class=\"data row1 col6\" >0.2116</td>\n",
       "      <td id=\"T_f1172_row1_col7\" class=\"data row1 col7\" >0.2228</td>\n",
       "      <td id=\"T_f1172_row1_col8\" class=\"data row1 col8\" >0.1540</td>\n",
       "    </tr>\n",
       "    <tr>\n",
       "      <th id=\"T_f1172_level0_row2\" class=\"row_heading level0 row2\" >dummy</th>\n",
       "      <td id=\"T_f1172_row2_col0\" class=\"data row2 col0\" >Dummy Classifier</td>\n",
       "      <td id=\"T_f1172_row2_col1\" class=\"data row2 col1\" >0.7050</td>\n",
       "      <td id=\"T_f1172_row2_col2\" class=\"data row2 col2\" >0.5000</td>\n",
       "      <td id=\"T_f1172_row2_col3\" class=\"data row2 col3\" >0.0000</td>\n",
       "      <td id=\"T_f1172_row2_col4\" class=\"data row2 col4\" >0.0000</td>\n",
       "      <td id=\"T_f1172_row2_col5\" class=\"data row2 col5\" >0.0000</td>\n",
       "      <td id=\"T_f1172_row2_col6\" class=\"data row2 col6\" >0.0000</td>\n",
       "      <td id=\"T_f1172_row2_col7\" class=\"data row2 col7\" >0.0000</td>\n",
       "      <td id=\"T_f1172_row2_col8\" class=\"data row2 col8\" >0.0640</td>\n",
       "    </tr>\n",
       "    <tr>\n",
       "      <th id=\"T_f1172_level0_row3\" class=\"row_heading level0 row3\" >gbc</th>\n",
       "      <td id=\"T_f1172_row3_col0\" class=\"data row3 col0\" >Gradient Boosting Classifier</td>\n",
       "      <td id=\"T_f1172_row3_col1\" class=\"data row3 col1\" >0.6950</td>\n",
       "      <td id=\"T_f1172_row3_col2\" class=\"data row3 col2\" >0.5606</td>\n",
       "      <td id=\"T_f1172_row3_col3\" class=\"data row3 col3\" >0.2900</td>\n",
       "      <td id=\"T_f1172_row3_col4\" class=\"data row3 col4\" >0.4933</td>\n",
       "      <td id=\"T_f1172_row3_col5\" class=\"data row3 col5\" >0.3421</td>\n",
       "      <td id=\"T_f1172_row3_col6\" class=\"data row3 col6\" >0.1704</td>\n",
       "      <td id=\"T_f1172_row3_col7\" class=\"data row3 col7\" >0.1871</td>\n",
       "      <td id=\"T_f1172_row3_col8\" class=\"data row3 col8\" >0.1010</td>\n",
       "    </tr>\n",
       "    <tr>\n",
       "      <th id=\"T_f1172_level0_row4\" class=\"row_heading level0 row4\" >lr</th>\n",
       "      <td id=\"T_f1172_row4_col0\" class=\"data row4 col0\" >Logistic Regression</td>\n",
       "      <td id=\"T_f1172_row4_col1\" class=\"data row4 col1\" >0.6900</td>\n",
       "      <td id=\"T_f1172_row4_col2\" class=\"data row4 col2\" >0.6169</td>\n",
       "      <td id=\"T_f1172_row4_col3\" class=\"data row4 col3\" >0.2367</td>\n",
       "      <td id=\"T_f1172_row4_col4\" class=\"data row4 col4\" >0.4483</td>\n",
       "      <td id=\"T_f1172_row4_col5\" class=\"data row4 col5\" >0.2916</td>\n",
       "      <td id=\"T_f1172_row4_col6\" class=\"data row4 col6\" >0.1277</td>\n",
       "      <td id=\"T_f1172_row4_col7\" class=\"data row4 col7\" >0.1403</td>\n",
       "      <td id=\"T_f1172_row4_col8\" class=\"data row4 col8\" >0.7300</td>\n",
       "    </tr>\n",
       "    <tr>\n",
       "      <th id=\"T_f1172_level0_row5\" class=\"row_heading level0 row5\" >nb</th>\n",
       "      <td id=\"T_f1172_row5_col0\" class=\"data row5 col0\" >Naive Bayes</td>\n",
       "      <td id=\"T_f1172_row5_col1\" class=\"data row5 col1\" >0.6900</td>\n",
       "      <td id=\"T_f1172_row5_col2\" class=\"data row5 col2\" >0.6144</td>\n",
       "      <td id=\"T_f1172_row5_col3\" class=\"data row5 col3\" >0.1500</td>\n",
       "      <td id=\"T_f1172_row5_col4\" class=\"data row5 col4\" >0.2500</td>\n",
       "      <td id=\"T_f1172_row5_col5\" class=\"data row5 col5\" >0.1806</td>\n",
       "      <td id=\"T_f1172_row5_col6\" class=\"data row5 col6\" >0.0629</td>\n",
       "      <td id=\"T_f1172_row5_col7\" class=\"data row5 col7\" >0.0537</td>\n",
       "      <td id=\"T_f1172_row5_col8\" class=\"data row5 col8\" >0.0660</td>\n",
       "    </tr>\n",
       "    <tr>\n",
       "      <th id=\"T_f1172_level0_row6\" class=\"row_heading level0 row6\" >lightgbm</th>\n",
       "      <td id=\"T_f1172_row6_col0\" class=\"data row6 col0\" >Light Gradient Boosting Machine</td>\n",
       "      <td id=\"T_f1172_row6_col1\" class=\"data row6 col1\" >0.6850</td>\n",
       "      <td id=\"T_f1172_row6_col2\" class=\"data row6 col2\" >0.5676</td>\n",
       "      <td id=\"T_f1172_row6_col3\" class=\"data row6 col3\" >0.2733</td>\n",
       "      <td id=\"T_f1172_row6_col4\" class=\"data row6 col4\" >0.4714</td>\n",
       "      <td id=\"T_f1172_row6_col5\" class=\"data row6 col5\" >0.3227</td>\n",
       "      <td id=\"T_f1172_row6_col6\" class=\"data row6 col6\" >0.1468</td>\n",
       "      <td id=\"T_f1172_row6_col7\" class=\"data row6 col7\" >0.1618</td>\n",
       "      <td id=\"T_f1172_row6_col8\" class=\"data row6 col8\" >0.0840</td>\n",
       "    </tr>\n",
       "    <tr>\n",
       "      <th id=\"T_f1172_level0_row7\" class=\"row_heading level0 row7\" >et</th>\n",
       "      <td id=\"T_f1172_row7_col0\" class=\"data row7 col0\" >Extra Trees Classifier</td>\n",
       "      <td id=\"T_f1172_row7_col1\" class=\"data row7 col1\" >0.6800</td>\n",
       "      <td id=\"T_f1172_row7_col2\" class=\"data row7 col2\" >0.5595</td>\n",
       "      <td id=\"T_f1172_row7_col3\" class=\"data row7 col3\" >0.3067</td>\n",
       "      <td id=\"T_f1172_row7_col4\" class=\"data row7 col4\" >0.4350</td>\n",
       "      <td id=\"T_f1172_row7_col5\" class=\"data row7 col5\" >0.3515</td>\n",
       "      <td id=\"T_f1172_row7_col6\" class=\"data row7 col6\" >0.1548</td>\n",
       "      <td id=\"T_f1172_row7_col7\" class=\"data row7 col7\" >0.1598</td>\n",
       "      <td id=\"T_f1172_row7_col8\" class=\"data row7 col8\" >0.1590</td>\n",
       "    </tr>\n",
       "    <tr>\n",
       "      <th id=\"T_f1172_level0_row8\" class=\"row_heading level0 row8\" >ridge</th>\n",
       "      <td id=\"T_f1172_row8_col0\" class=\"data row8 col0\" >Ridge Classifier</td>\n",
       "      <td id=\"T_f1172_row8_col1\" class=\"data row8 col1\" >0.6700</td>\n",
       "      <td id=\"T_f1172_row8_col2\" class=\"data row8 col2\" >0.0000</td>\n",
       "      <td id=\"T_f1172_row8_col3\" class=\"data row8 col3\" >0.2000</td>\n",
       "      <td id=\"T_f1172_row8_col4\" class=\"data row8 col4\" >0.3633</td>\n",
       "      <td id=\"T_f1172_row8_col5\" class=\"data row8 col5\" >0.2396</td>\n",
       "      <td id=\"T_f1172_row8_col6\" class=\"data row8 col6\" >0.0702</td>\n",
       "      <td id=\"T_f1172_row8_col7\" class=\"data row8 col7\" >0.0796</td>\n",
       "      <td id=\"T_f1172_row8_col8\" class=\"data row8 col8\" >0.0590</td>\n",
       "    </tr>\n",
       "    <tr>\n",
       "      <th id=\"T_f1172_level0_row9\" class=\"row_heading level0 row9\" >ada</th>\n",
       "      <td id=\"T_f1172_row9_col0\" class=\"data row9 col0\" >Ada Boost Classifier</td>\n",
       "      <td id=\"T_f1172_row9_col1\" class=\"data row9 col1\" >0.6600</td>\n",
       "      <td id=\"T_f1172_row9_col2\" class=\"data row9 col2\" >0.5441</td>\n",
       "      <td id=\"T_f1172_row9_col3\" class=\"data row9 col3\" >0.2200</td>\n",
       "      <td id=\"T_f1172_row9_col4\" class=\"data row9 col4\" >0.3817</td>\n",
       "      <td id=\"T_f1172_row9_col5\" class=\"data row9 col5\" >0.2592</td>\n",
       "      <td id=\"T_f1172_row9_col6\" class=\"data row9 col6\" >0.0680</td>\n",
       "      <td id=\"T_f1172_row9_col7\" class=\"data row9 col7\" >0.0763</td>\n",
       "      <td id=\"T_f1172_row9_col8\" class=\"data row9 col8\" >0.1020</td>\n",
       "    </tr>\n",
       "    <tr>\n",
       "      <th id=\"T_f1172_level0_row10\" class=\"row_heading level0 row10\" >dt</th>\n",
       "      <td id=\"T_f1172_row10_col0\" class=\"data row10 col0\" >Decision Tree Classifier</td>\n",
       "      <td id=\"T_f1172_row10_col1\" class=\"data row10 col1\" >0.6550</td>\n",
       "      <td id=\"T_f1172_row10_col2\" class=\"data row10 col2\" >0.5758</td>\n",
       "      <td id=\"T_f1172_row10_col3\" class=\"data row10 col3\" >0.3933</td>\n",
       "      <td id=\"T_f1172_row10_col4\" class=\"data row10 col4\" >0.3539</td>\n",
       "      <td id=\"T_f1172_row10_col5\" class=\"data row10 col5\" >0.3654</td>\n",
       "      <td id=\"T_f1172_row10_col6\" class=\"data row10 col6\" >0.1443</td>\n",
       "      <td id=\"T_f1172_row10_col7\" class=\"data row10 col7\" >0.1412</td>\n",
       "      <td id=\"T_f1172_row10_col8\" class=\"data row10 col8\" >0.0690</td>\n",
       "    </tr>\n",
       "    <tr>\n",
       "      <th id=\"T_f1172_level0_row11\" class=\"row_heading level0 row11\" >svm</th>\n",
       "      <td id=\"T_f1172_row11_col0\" class=\"data row11 col0\" >SVM - Linear Kernel</td>\n",
       "      <td id=\"T_f1172_row11_col1\" class=\"data row11 col1\" >0.6500</td>\n",
       "      <td id=\"T_f1172_row11_col2\" class=\"data row11 col2\" >0.0000</td>\n",
       "      <td id=\"T_f1172_row11_col3\" class=\"data row11 col3\" >0.2367</td>\n",
       "      <td id=\"T_f1172_row11_col4\" class=\"data row11 col4\" >0.4053</td>\n",
       "      <td id=\"T_f1172_row11_col5\" class=\"data row11 col5\" >0.2343</td>\n",
       "      <td id=\"T_f1172_row11_col6\" class=\"data row11 col6\" >0.0603</td>\n",
       "      <td id=\"T_f1172_row11_col7\" class=\"data row11 col7\" >0.0905</td>\n",
       "      <td id=\"T_f1172_row11_col8\" class=\"data row11 col8\" >0.0650</td>\n",
       "    </tr>\n",
       "    <tr>\n",
       "      <th id=\"T_f1172_level0_row12\" class=\"row_heading level0 row12\" >lda</th>\n",
       "      <td id=\"T_f1172_row12_col0\" class=\"data row12 col0\" >Linear Discriminant Analysis</td>\n",
       "      <td id=\"T_f1172_row12_col1\" class=\"data row12 col1\" >0.6500</td>\n",
       "      <td id=\"T_f1172_row12_col2\" class=\"data row12 col2\" >0.5430</td>\n",
       "      <td id=\"T_f1172_row12_col3\" class=\"data row12 col3\" >0.1667</td>\n",
       "      <td id=\"T_f1172_row12_col4\" class=\"data row12 col4\" >0.3352</td>\n",
       "      <td id=\"T_f1172_row12_col5\" class=\"data row12 col5\" >0.2051</td>\n",
       "      <td id=\"T_f1172_row12_col6\" class=\"data row12 col6\" >0.0212</td>\n",
       "      <td id=\"T_f1172_row12_col7\" class=\"data row12 col7\" >0.0333</td>\n",
       "      <td id=\"T_f1172_row12_col8\" class=\"data row12 col8\" >0.0690</td>\n",
       "    </tr>\n",
       "    <tr>\n",
       "      <th id=\"T_f1172_level0_row13\" class=\"row_heading level0 row13\" >qda</th>\n",
       "      <td id=\"T_f1172_row13_col0\" class=\"data row13 col0\" >Quadratic Discriminant Analysis</td>\n",
       "      <td id=\"T_f1172_row13_col1\" class=\"data row13 col1\" >0.6000</td>\n",
       "      <td id=\"T_f1172_row13_col2\" class=\"data row13 col2\" >0.4997</td>\n",
       "      <td id=\"T_f1172_row13_col3\" class=\"data row13 col3\" >0.3067</td>\n",
       "      <td id=\"T_f1172_row13_col4\" class=\"data row13 col4\" >0.3574</td>\n",
       "      <td id=\"T_f1172_row13_col5\" class=\"data row13 col5\" >0.3019</td>\n",
       "      <td id=\"T_f1172_row13_col6\" class=\"data row13 col6\" >0.0459</td>\n",
       "      <td id=\"T_f1172_row13_col7\" class=\"data row13 col7\" >0.0425</td>\n",
       "      <td id=\"T_f1172_row13_col8\" class=\"data row13 col8\" >0.0690</td>\n",
       "    </tr>\n",
       "  </tbody>\n",
       "</table>\n"
      ],
      "text/plain": [
       "<pandas.io.formats.style.Styler at 0x2160c36d090>"
      ]
     },
     "metadata": {},
     "output_type": "display_data"
    }
   ],
   "source": [
    "best = compare_models()"
   ]
  },
  {
   "cell_type": "code",
   "execution_count": 33,
   "metadata": {},
   "outputs": [
    {
     "data": {
      "application/vnd.jupyter.widget-view+json": {
       "model_id": "c272e9fda61d4d12a01de2b6e5145e03",
       "version_major": 2,
       "version_minor": 0
      },
      "text/plain": [
       "interactive(children=(ToggleButtons(description='Plot Type:', icons=('',), options=(('Pipeline Plot', 'pipelin…"
      ]
     },
     "metadata": {},
     "output_type": "display_data"
    }
   ],
   "source": [
    "evaluate_model(best)"
   ]
  },
  {
   "cell_type": "code",
   "execution_count": null,
   "metadata": {},
   "outputs": [],
   "source": []
  }
 ],
 "metadata": {
  "kernelspec": {
   "display_name": "Python 3 (ipykernel)",
   "language": "python",
   "name": "python3"
  },
  "language_info": {
   "codemirror_mode": {
    "name": "ipython",
    "version": 3
   },
   "file_extension": ".py",
   "mimetype": "text/x-python",
   "name": "python",
   "nbconvert_exporter": "python",
   "pygments_lexer": "ipython3",
   "version": "3.10.7"
  }
 },
 "nbformat": 4,
 "nbformat_minor": 2
}
