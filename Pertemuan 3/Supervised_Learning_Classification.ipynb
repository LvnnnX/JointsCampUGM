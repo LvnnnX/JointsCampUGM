{
  "cells": [
    {
      "cell_type": "markdown",
      "metadata": {
        "id": "KHC_aVkppCy-"
      },
      "source": [
        "# Import package"
      ]
    },
    {
      "cell_type": "code",
      "execution_count": 1,
      "metadata": {
        "id": "UJh2b0iqo9SD"
      },
      "outputs": [],
      "source": [
        "import pandas as pd\n",
        "import numpy as np\n",
        "\n",
        "from sklearn.model_selection import train_test_split\n",
        "\n",
        "# Data preparation\n",
        "from sklearn.impute import SimpleImputer\n",
        "from sklearn.preprocessing import OneHotEncoder\n",
        "\n",
        "# Classification model\n",
        "from sklearn.linear_model import LogisticRegression\n",
        "from sklearn.svm import SVC\n",
        "from sklearn.neighbors import KNeighborsClassifier\n",
        "from sklearn.tree import DecisionTreeClassifier\n",
        "from sklearn.ensemble import RandomForestClassifier\n",
        "\n",
        "# Evaluation\n",
        "from sklearn.metrics import classification_report\n",
        "from sklearn.model_selection import cross_val_score\n",
        "\n",
        "# Hyperparams tuning\n",
        "from sklearn.model_selection import GridSearchCV"
      ]
    },
    {
      "cell_type": "markdown",
      "metadata": {
        "id": "b8dy5gJsqFad"
      },
      "source": [
        "# Data understanding"
      ]
    },
    {
      "cell_type": "code",
      "execution_count": 2,
      "metadata": {
        "id": "hpE_Mr7lpGtJ"
      },
      "outputs": [],
      "source": [
        "breast = pd.read_csv('https://archive.ics.uci.edu/ml/machine-learning-databases/breast-cancer/breast-cancer.data',\n",
        "                     names=['Class','age','menopause','tumor-size','inv-nodes','node-caps','deg-malig','breast','breast-quad','irradiat'],\n",
        "                     )"
      ]
    },
    {
      "cell_type": "code",
      "execution_count": 3,
      "metadata": {
        "colab": {
          "base_uri": "https://localhost:8080/",
          "height": 354
        },
        "id": "c8Xh0mcXqClE",
        "outputId": "00d9858c-55f1-4b47-969c-bb09b3864ed3"
      },
      "outputs": [
        {
          "data": {
            "text/html": [
              "<div>\n",
              "<style scoped>\n",
              "    .dataframe tbody tr th:only-of-type {\n",
              "        vertical-align: middle;\n",
              "    }\n",
              "\n",
              "    .dataframe tbody tr th {\n",
              "        vertical-align: top;\n",
              "    }\n",
              "\n",
              "    .dataframe thead th {\n",
              "        text-align: right;\n",
              "    }\n",
              "</style>\n",
              "<table border=\"1\" class=\"dataframe\">\n",
              "  <thead>\n",
              "    <tr style=\"text-align: right;\">\n",
              "      <th></th>\n",
              "      <th>Class</th>\n",
              "      <th>age</th>\n",
              "      <th>menopause</th>\n",
              "      <th>tumor-size</th>\n",
              "      <th>inv-nodes</th>\n",
              "      <th>node-caps</th>\n",
              "      <th>deg-malig</th>\n",
              "      <th>breast</th>\n",
              "      <th>breast-quad</th>\n",
              "      <th>irradiat</th>\n",
              "    </tr>\n",
              "  </thead>\n",
              "  <tbody>\n",
              "    <tr>\n",
              "      <th>0</th>\n",
              "      <td>no-recurrence-events</td>\n",
              "      <td>30-39</td>\n",
              "      <td>premeno</td>\n",
              "      <td>30-34</td>\n",
              "      <td>0-2</td>\n",
              "      <td>no</td>\n",
              "      <td>3</td>\n",
              "      <td>left</td>\n",
              "      <td>left_low</td>\n",
              "      <td>no</td>\n",
              "    </tr>\n",
              "    <tr>\n",
              "      <th>1</th>\n",
              "      <td>no-recurrence-events</td>\n",
              "      <td>40-49</td>\n",
              "      <td>premeno</td>\n",
              "      <td>20-24</td>\n",
              "      <td>0-2</td>\n",
              "      <td>no</td>\n",
              "      <td>2</td>\n",
              "      <td>right</td>\n",
              "      <td>right_up</td>\n",
              "      <td>no</td>\n",
              "    </tr>\n",
              "    <tr>\n",
              "      <th>2</th>\n",
              "      <td>no-recurrence-events</td>\n",
              "      <td>40-49</td>\n",
              "      <td>premeno</td>\n",
              "      <td>20-24</td>\n",
              "      <td>0-2</td>\n",
              "      <td>no</td>\n",
              "      <td>2</td>\n",
              "      <td>left</td>\n",
              "      <td>left_low</td>\n",
              "      <td>no</td>\n",
              "    </tr>\n",
              "    <tr>\n",
              "      <th>3</th>\n",
              "      <td>no-recurrence-events</td>\n",
              "      <td>60-69</td>\n",
              "      <td>ge40</td>\n",
              "      <td>15-19</td>\n",
              "      <td>0-2</td>\n",
              "      <td>no</td>\n",
              "      <td>2</td>\n",
              "      <td>right</td>\n",
              "      <td>left_up</td>\n",
              "      <td>no</td>\n",
              "    </tr>\n",
              "    <tr>\n",
              "      <th>4</th>\n",
              "      <td>no-recurrence-events</td>\n",
              "      <td>40-49</td>\n",
              "      <td>premeno</td>\n",
              "      <td>0-4</td>\n",
              "      <td>0-2</td>\n",
              "      <td>no</td>\n",
              "      <td>2</td>\n",
              "      <td>right</td>\n",
              "      <td>right_low</td>\n",
              "      <td>no</td>\n",
              "    </tr>\n",
              "  </tbody>\n",
              "</table>\n",
              "</div>"
            ],
            "text/plain": [
              "                  Class    age menopause tumor-size inv-nodes node-caps  \\\n",
              "0  no-recurrence-events  30-39   premeno      30-34       0-2        no   \n",
              "1  no-recurrence-events  40-49   premeno      20-24       0-2        no   \n",
              "2  no-recurrence-events  40-49   premeno      20-24       0-2        no   \n",
              "3  no-recurrence-events  60-69      ge40      15-19       0-2        no   \n",
              "4  no-recurrence-events  40-49   premeno        0-4       0-2        no   \n",
              "\n",
              "   deg-malig breast breast-quad irradiat  \n",
              "0          3   left    left_low       no  \n",
              "1          2  right    right_up       no  \n",
              "2          2   left    left_low       no  \n",
              "3          2  right     left_up       no  \n",
              "4          2  right   right_low       no  "
            ]
          },
          "execution_count": 3,
          "metadata": {},
          "output_type": "execute_result"
        }
      ],
      "source": [
        "breast.head()"
      ]
    },
    {
      "cell_type": "code",
      "execution_count": 4,
      "metadata": {
        "colab": {
          "base_uri": "https://localhost:8080/",
          "height": 354
        },
        "id": "-jf3kG_kqUh3",
        "outputId": "e87a6c14-c608-4bad-d878-b4725dca0eb8"
      },
      "outputs": [
        {
          "data": {
            "text/html": [
              "<div>\n",
              "<style scoped>\n",
              "    .dataframe tbody tr th:only-of-type {\n",
              "        vertical-align: middle;\n",
              "    }\n",
              "\n",
              "    .dataframe tbody tr th {\n",
              "        vertical-align: top;\n",
              "    }\n",
              "\n",
              "    .dataframe thead th {\n",
              "        text-align: right;\n",
              "    }\n",
              "</style>\n",
              "<table border=\"1\" class=\"dataframe\">\n",
              "  <thead>\n",
              "    <tr style=\"text-align: right;\">\n",
              "      <th></th>\n",
              "      <th>Class</th>\n",
              "      <th>age</th>\n",
              "      <th>menopause</th>\n",
              "      <th>tumor-size</th>\n",
              "      <th>inv-nodes</th>\n",
              "      <th>node-caps</th>\n",
              "      <th>deg-malig</th>\n",
              "      <th>breast</th>\n",
              "      <th>breast-quad</th>\n",
              "      <th>irradiat</th>\n",
              "    </tr>\n",
              "  </thead>\n",
              "  <tbody>\n",
              "    <tr>\n",
              "      <th>281</th>\n",
              "      <td>recurrence-events</td>\n",
              "      <td>30-39</td>\n",
              "      <td>premeno</td>\n",
              "      <td>30-34</td>\n",
              "      <td>0-2</td>\n",
              "      <td>no</td>\n",
              "      <td>2</td>\n",
              "      <td>left</td>\n",
              "      <td>left_up</td>\n",
              "      <td>no</td>\n",
              "    </tr>\n",
              "    <tr>\n",
              "      <th>282</th>\n",
              "      <td>recurrence-events</td>\n",
              "      <td>30-39</td>\n",
              "      <td>premeno</td>\n",
              "      <td>20-24</td>\n",
              "      <td>0-2</td>\n",
              "      <td>no</td>\n",
              "      <td>3</td>\n",
              "      <td>left</td>\n",
              "      <td>left_up</td>\n",
              "      <td>yes</td>\n",
              "    </tr>\n",
              "    <tr>\n",
              "      <th>283</th>\n",
              "      <td>recurrence-events</td>\n",
              "      <td>60-69</td>\n",
              "      <td>ge40</td>\n",
              "      <td>20-24</td>\n",
              "      <td>0-2</td>\n",
              "      <td>no</td>\n",
              "      <td>1</td>\n",
              "      <td>right</td>\n",
              "      <td>left_up</td>\n",
              "      <td>no</td>\n",
              "    </tr>\n",
              "    <tr>\n",
              "      <th>284</th>\n",
              "      <td>recurrence-events</td>\n",
              "      <td>40-49</td>\n",
              "      <td>ge40</td>\n",
              "      <td>30-34</td>\n",
              "      <td>3-5</td>\n",
              "      <td>no</td>\n",
              "      <td>3</td>\n",
              "      <td>left</td>\n",
              "      <td>left_low</td>\n",
              "      <td>no</td>\n",
              "    </tr>\n",
              "    <tr>\n",
              "      <th>285</th>\n",
              "      <td>recurrence-events</td>\n",
              "      <td>50-59</td>\n",
              "      <td>ge40</td>\n",
              "      <td>30-34</td>\n",
              "      <td>3-5</td>\n",
              "      <td>no</td>\n",
              "      <td>3</td>\n",
              "      <td>left</td>\n",
              "      <td>left_low</td>\n",
              "      <td>no</td>\n",
              "    </tr>\n",
              "  </tbody>\n",
              "</table>\n",
              "</div>"
            ],
            "text/plain": [
              "                 Class    age menopause tumor-size inv-nodes node-caps  \\\n",
              "281  recurrence-events  30-39   premeno      30-34       0-2        no   \n",
              "282  recurrence-events  30-39   premeno      20-24       0-2        no   \n",
              "283  recurrence-events  60-69      ge40      20-24       0-2        no   \n",
              "284  recurrence-events  40-49      ge40      30-34       3-5        no   \n",
              "285  recurrence-events  50-59      ge40      30-34       3-5        no   \n",
              "\n",
              "     deg-malig breast breast-quad irradiat  \n",
              "281          2   left     left_up       no  \n",
              "282          3   left     left_up      yes  \n",
              "283          1  right     left_up       no  \n",
              "284          3   left    left_low       no  \n",
              "285          3   left    left_low       no  "
            ]
          },
          "execution_count": 4,
          "metadata": {},
          "output_type": "execute_result"
        }
      ],
      "source": [
        "breast.tail()"
      ]
    },
    {
      "cell_type": "code",
      "execution_count": 5,
      "metadata": {
        "colab": {
          "base_uri": "https://localhost:8080/",
          "height": 354
        },
        "id": "RdzK41GRr7yA",
        "outputId": "b7197abb-1985-4425-8a52-eca735c406f8"
      },
      "outputs": [
        {
          "data": {
            "text/html": [
              "<div>\n",
              "<style scoped>\n",
              "    .dataframe tbody tr th:only-of-type {\n",
              "        vertical-align: middle;\n",
              "    }\n",
              "\n",
              "    .dataframe tbody tr th {\n",
              "        vertical-align: top;\n",
              "    }\n",
              "\n",
              "    .dataframe thead th {\n",
              "        text-align: right;\n",
              "    }\n",
              "</style>\n",
              "<table border=\"1\" class=\"dataframe\">\n",
              "  <thead>\n",
              "    <tr style=\"text-align: right;\">\n",
              "      <th></th>\n",
              "      <th>Class</th>\n",
              "      <th>age</th>\n",
              "      <th>menopause</th>\n",
              "      <th>tumor-size</th>\n",
              "      <th>inv-nodes</th>\n",
              "      <th>node-caps</th>\n",
              "      <th>deg-malig</th>\n",
              "      <th>breast</th>\n",
              "      <th>breast-quad</th>\n",
              "      <th>irradiat</th>\n",
              "    </tr>\n",
              "  </thead>\n",
              "  <tbody>\n",
              "    <tr>\n",
              "      <th>119</th>\n",
              "      <td>no-recurrence-events</td>\n",
              "      <td>60-69</td>\n",
              "      <td>ge40</td>\n",
              "      <td>15-19</td>\n",
              "      <td>0-2</td>\n",
              "      <td>no</td>\n",
              "      <td>1</td>\n",
              "      <td>left</td>\n",
              "      <td>right_low</td>\n",
              "      <td>no</td>\n",
              "    </tr>\n",
              "    <tr>\n",
              "      <th>141</th>\n",
              "      <td>no-recurrence-events</td>\n",
              "      <td>50-59</td>\n",
              "      <td>premeno</td>\n",
              "      <td>20-24</td>\n",
              "      <td>3-5</td>\n",
              "      <td>yes</td>\n",
              "      <td>2</td>\n",
              "      <td>left</td>\n",
              "      <td>left_low</td>\n",
              "      <td>no</td>\n",
              "    </tr>\n",
              "    <tr>\n",
              "      <th>78</th>\n",
              "      <td>no-recurrence-events</td>\n",
              "      <td>50-59</td>\n",
              "      <td>premeno</td>\n",
              "      <td>25-29</td>\n",
              "      <td>0-2</td>\n",
              "      <td>no</td>\n",
              "      <td>2</td>\n",
              "      <td>left</td>\n",
              "      <td>left_low</td>\n",
              "      <td>no</td>\n",
              "    </tr>\n",
              "    <tr>\n",
              "      <th>263</th>\n",
              "      <td>recurrence-events</td>\n",
              "      <td>50-59</td>\n",
              "      <td>lt40</td>\n",
              "      <td>20-24</td>\n",
              "      <td>0-2</td>\n",
              "      <td>?</td>\n",
              "      <td>1</td>\n",
              "      <td>left</td>\n",
              "      <td>left_up</td>\n",
              "      <td>no</td>\n",
              "    </tr>\n",
              "    <tr>\n",
              "      <th>265</th>\n",
              "      <td>recurrence-events</td>\n",
              "      <td>30-39</td>\n",
              "      <td>premeno</td>\n",
              "      <td>35-39</td>\n",
              "      <td>9-11</td>\n",
              "      <td>yes</td>\n",
              "      <td>3</td>\n",
              "      <td>left</td>\n",
              "      <td>left_low</td>\n",
              "      <td>no</td>\n",
              "    </tr>\n",
              "  </tbody>\n",
              "</table>\n",
              "</div>"
            ],
            "text/plain": [
              "                    Class    age menopause tumor-size inv-nodes node-caps  \\\n",
              "119  no-recurrence-events  60-69      ge40      15-19       0-2        no   \n",
              "141  no-recurrence-events  50-59   premeno      20-24       3-5       yes   \n",
              "78   no-recurrence-events  50-59   premeno      25-29       0-2        no   \n",
              "263     recurrence-events  50-59      lt40      20-24       0-2         ?   \n",
              "265     recurrence-events  30-39   premeno      35-39      9-11       yes   \n",
              "\n",
              "     deg-malig breast breast-quad irradiat  \n",
              "119          1   left   right_low       no  \n",
              "141          2   left    left_low       no  \n",
              "78           2   left    left_low       no  \n",
              "263          1   left     left_up       no  \n",
              "265          3   left    left_low       no  "
            ]
          },
          "execution_count": 5,
          "metadata": {},
          "output_type": "execute_result"
        }
      ],
      "source": [
        "breast.sample(5)"
      ]
    },
    {
      "cell_type": "code",
      "execution_count": 6,
      "metadata": {
        "colab": {
          "base_uri": "https://localhost:8080/"
        },
        "id": "wsHqAd0vr_FG",
        "outputId": "b39157c9-dcc6-4c57-b001-bae4269b299a"
      },
      "outputs": [
        {
          "name": "stdout",
          "output_type": "stream",
          "text": [
            "<class 'pandas.core.frame.DataFrame'>\n",
            "RangeIndex: 286 entries, 0 to 285\n",
            "Data columns (total 10 columns):\n",
            " #   Column       Non-Null Count  Dtype \n",
            "---  ------       --------------  ----- \n",
            " 0   Class        286 non-null    object\n",
            " 1   age          286 non-null    object\n",
            " 2   menopause    286 non-null    object\n",
            " 3   tumor-size   286 non-null    object\n",
            " 4   inv-nodes    286 non-null    object\n",
            " 5   node-caps    286 non-null    object\n",
            " 6   deg-malig    286 non-null    int64 \n",
            " 7   breast       286 non-null    object\n",
            " 8   breast-quad  286 non-null    object\n",
            " 9   irradiat     286 non-null    object\n",
            "dtypes: int64(1), object(9)\n",
            "memory usage: 22.5+ KB\n"
          ]
        }
      ],
      "source": [
        "# Dataset information\n",
        "breast.info()"
      ]
    },
    {
      "cell_type": "code",
      "execution_count": 7,
      "metadata": {
        "colab": {
          "base_uri": "https://localhost:8080/"
        },
        "id": "_aMH3nY3sLRx",
        "outputId": "fdb8b467-32e2-4412-a312-8aa42882ef37"
      },
      "outputs": [
        {
          "data": {
            "text/plain": [
              "Class          0\n",
              "age            0\n",
              "menopause      0\n",
              "tumor-size     0\n",
              "inv-nodes      0\n",
              "node-caps      0\n",
              "deg-malig      0\n",
              "breast         0\n",
              "breast-quad    0\n",
              "irradiat       0\n",
              "dtype: int64"
            ]
          },
          "execution_count": 7,
          "metadata": {},
          "output_type": "execute_result"
        }
      ],
      "source": [
        "breast.isnull().sum()"
      ]
    },
    {
      "cell_type": "code",
      "execution_count": 8,
      "metadata": {
        "colab": {
          "base_uri": "https://localhost:8080/",
          "height": 300
        },
        "id": "1WGmLtg8si8C",
        "outputId": "a7c59668-2210-47d8-c5b9-d73ac09dfb22"
      },
      "outputs": [
        {
          "data": {
            "text/html": [
              "<div>\n",
              "<style scoped>\n",
              "    .dataframe tbody tr th:only-of-type {\n",
              "        vertical-align: middle;\n",
              "    }\n",
              "\n",
              "    .dataframe tbody tr th {\n",
              "        vertical-align: top;\n",
              "    }\n",
              "\n",
              "    .dataframe thead th {\n",
              "        text-align: right;\n",
              "    }\n",
              "</style>\n",
              "<table border=\"1\" class=\"dataframe\">\n",
              "  <thead>\n",
              "    <tr style=\"text-align: right;\">\n",
              "      <th></th>\n",
              "      <th>deg-malig</th>\n",
              "    </tr>\n",
              "  </thead>\n",
              "  <tbody>\n",
              "    <tr>\n",
              "      <th>count</th>\n",
              "      <td>286.000000</td>\n",
              "    </tr>\n",
              "    <tr>\n",
              "      <th>mean</th>\n",
              "      <td>2.048951</td>\n",
              "    </tr>\n",
              "    <tr>\n",
              "      <th>std</th>\n",
              "      <td>0.738217</td>\n",
              "    </tr>\n",
              "    <tr>\n",
              "      <th>min</th>\n",
              "      <td>1.000000</td>\n",
              "    </tr>\n",
              "    <tr>\n",
              "      <th>25%</th>\n",
              "      <td>2.000000</td>\n",
              "    </tr>\n",
              "    <tr>\n",
              "      <th>50%</th>\n",
              "      <td>2.000000</td>\n",
              "    </tr>\n",
              "    <tr>\n",
              "      <th>75%</th>\n",
              "      <td>3.000000</td>\n",
              "    </tr>\n",
              "    <tr>\n",
              "      <th>max</th>\n",
              "      <td>3.000000</td>\n",
              "    </tr>\n",
              "  </tbody>\n",
              "</table>\n",
              "</div>"
            ],
            "text/plain": [
              "        deg-malig\n",
              "count  286.000000\n",
              "mean     2.048951\n",
              "std      0.738217\n",
              "min      1.000000\n",
              "25%      2.000000\n",
              "50%      2.000000\n",
              "75%      3.000000\n",
              "max      3.000000"
            ]
          },
          "execution_count": 8,
          "metadata": {},
          "output_type": "execute_result"
        }
      ],
      "source": [
        "# Statistik deskriptif\n",
        "breast.describe()"
      ]
    },
    {
      "cell_type": "code",
      "execution_count": 9,
      "metadata": {
        "colab": {
          "base_uri": "https://localhost:8080/",
          "height": 253
        },
        "id": "fh6t6Daksrjr",
        "outputId": "e3e72b98-b9a6-4243-8f0c-c272b6c2213e"
      },
      "outputs": [
        {
          "data": {
            "text/html": [
              "<div>\n",
              "<style scoped>\n",
              "    .dataframe tbody tr th:only-of-type {\n",
              "        vertical-align: middle;\n",
              "    }\n",
              "\n",
              "    .dataframe tbody tr th {\n",
              "        vertical-align: top;\n",
              "    }\n",
              "\n",
              "    .dataframe thead th {\n",
              "        text-align: right;\n",
              "    }\n",
              "</style>\n",
              "<table border=\"1\" class=\"dataframe\">\n",
              "  <thead>\n",
              "    <tr style=\"text-align: right;\">\n",
              "      <th></th>\n",
              "      <th>Class</th>\n",
              "      <th>age</th>\n",
              "      <th>menopause</th>\n",
              "      <th>tumor-size</th>\n",
              "      <th>inv-nodes</th>\n",
              "      <th>node-caps</th>\n",
              "      <th>breast</th>\n",
              "      <th>breast-quad</th>\n",
              "      <th>irradiat</th>\n",
              "    </tr>\n",
              "  </thead>\n",
              "  <tbody>\n",
              "    <tr>\n",
              "      <th>count</th>\n",
              "      <td>286</td>\n",
              "      <td>286</td>\n",
              "      <td>286</td>\n",
              "      <td>286</td>\n",
              "      <td>286</td>\n",
              "      <td>286</td>\n",
              "      <td>286</td>\n",
              "      <td>286</td>\n",
              "      <td>286</td>\n",
              "    </tr>\n",
              "    <tr>\n",
              "      <th>unique</th>\n",
              "      <td>2</td>\n",
              "      <td>6</td>\n",
              "      <td>3</td>\n",
              "      <td>11</td>\n",
              "      <td>7</td>\n",
              "      <td>3</td>\n",
              "      <td>2</td>\n",
              "      <td>6</td>\n",
              "      <td>2</td>\n",
              "    </tr>\n",
              "    <tr>\n",
              "      <th>top</th>\n",
              "      <td>no-recurrence-events</td>\n",
              "      <td>50-59</td>\n",
              "      <td>premeno</td>\n",
              "      <td>30-34</td>\n",
              "      <td>0-2</td>\n",
              "      <td>no</td>\n",
              "      <td>left</td>\n",
              "      <td>left_low</td>\n",
              "      <td>no</td>\n",
              "    </tr>\n",
              "    <tr>\n",
              "      <th>freq</th>\n",
              "      <td>201</td>\n",
              "      <td>96</td>\n",
              "      <td>150</td>\n",
              "      <td>60</td>\n",
              "      <td>213</td>\n",
              "      <td>222</td>\n",
              "      <td>152</td>\n",
              "      <td>110</td>\n",
              "      <td>218</td>\n",
              "    </tr>\n",
              "  </tbody>\n",
              "</table>\n",
              "</div>"
            ],
            "text/plain": [
              "                       Class    age menopause tumor-size inv-nodes node-caps  \\\n",
              "count                    286    286       286        286       286       286   \n",
              "unique                     2      6         3         11         7         3   \n",
              "top     no-recurrence-events  50-59   premeno      30-34       0-2        no   \n",
              "freq                     201     96       150         60       213       222   \n",
              "\n",
              "       breast breast-quad irradiat  \n",
              "count     286         286      286  \n",
              "unique      2           6        2  \n",
              "top      left    left_low       no  \n",
              "freq      152         110      218  "
            ]
          },
          "execution_count": 9,
          "metadata": {},
          "output_type": "execute_result"
        }
      ],
      "source": [
        "breast.describe(include=['O'])"
      ]
    },
    {
      "cell_type": "code",
      "execution_count": 10,
      "metadata": {
        "id": "9fz_rncntD0G"
      },
      "outputs": [],
      "source": [
        "X = breast.iloc[:,1:]\n",
        "y = breast.iloc[:,0]"
      ]
    },
    {
      "cell_type": "code",
      "execution_count": 11,
      "metadata": {
        "colab": {
          "base_uri": "https://localhost:8080/",
          "height": 206
        },
        "id": "yTd-OR2FuMYZ",
        "outputId": "1e2a4c85-7c98-46e1-b156-8de3e3eb01a8"
      },
      "outputs": [
        {
          "data": {
            "text/html": [
              "<div>\n",
              "<style scoped>\n",
              "    .dataframe tbody tr th:only-of-type {\n",
              "        vertical-align: middle;\n",
              "    }\n",
              "\n",
              "    .dataframe tbody tr th {\n",
              "        vertical-align: top;\n",
              "    }\n",
              "\n",
              "    .dataframe thead th {\n",
              "        text-align: right;\n",
              "    }\n",
              "</style>\n",
              "<table border=\"1\" class=\"dataframe\">\n",
              "  <thead>\n",
              "    <tr style=\"text-align: right;\">\n",
              "      <th></th>\n",
              "      <th>age</th>\n",
              "      <th>menopause</th>\n",
              "      <th>tumor-size</th>\n",
              "      <th>inv-nodes</th>\n",
              "      <th>node-caps</th>\n",
              "      <th>deg-malig</th>\n",
              "      <th>breast</th>\n",
              "      <th>breast-quad</th>\n",
              "      <th>irradiat</th>\n",
              "    </tr>\n",
              "  </thead>\n",
              "  <tbody>\n",
              "    <tr>\n",
              "      <th>0</th>\n",
              "      <td>30-39</td>\n",
              "      <td>premeno</td>\n",
              "      <td>30-34</td>\n",
              "      <td>0-2</td>\n",
              "      <td>no</td>\n",
              "      <td>3</td>\n",
              "      <td>left</td>\n",
              "      <td>left_low</td>\n",
              "      <td>no</td>\n",
              "    </tr>\n",
              "    <tr>\n",
              "      <th>1</th>\n",
              "      <td>40-49</td>\n",
              "      <td>premeno</td>\n",
              "      <td>20-24</td>\n",
              "      <td>0-2</td>\n",
              "      <td>no</td>\n",
              "      <td>2</td>\n",
              "      <td>right</td>\n",
              "      <td>right_up</td>\n",
              "      <td>no</td>\n",
              "    </tr>\n",
              "    <tr>\n",
              "      <th>2</th>\n",
              "      <td>40-49</td>\n",
              "      <td>premeno</td>\n",
              "      <td>20-24</td>\n",
              "      <td>0-2</td>\n",
              "      <td>no</td>\n",
              "      <td>2</td>\n",
              "      <td>left</td>\n",
              "      <td>left_low</td>\n",
              "      <td>no</td>\n",
              "    </tr>\n",
              "    <tr>\n",
              "      <th>3</th>\n",
              "      <td>60-69</td>\n",
              "      <td>ge40</td>\n",
              "      <td>15-19</td>\n",
              "      <td>0-2</td>\n",
              "      <td>no</td>\n",
              "      <td>2</td>\n",
              "      <td>right</td>\n",
              "      <td>left_up</td>\n",
              "      <td>no</td>\n",
              "    </tr>\n",
              "    <tr>\n",
              "      <th>4</th>\n",
              "      <td>40-49</td>\n",
              "      <td>premeno</td>\n",
              "      <td>0-4</td>\n",
              "      <td>0-2</td>\n",
              "      <td>no</td>\n",
              "      <td>2</td>\n",
              "      <td>right</td>\n",
              "      <td>right_low</td>\n",
              "      <td>no</td>\n",
              "    </tr>\n",
              "  </tbody>\n",
              "</table>\n",
              "</div>"
            ],
            "text/plain": [
              "     age menopause tumor-size inv-nodes node-caps  deg-malig breast  \\\n",
              "0  30-39   premeno      30-34       0-2        no          3   left   \n",
              "1  40-49   premeno      20-24       0-2        no          2  right   \n",
              "2  40-49   premeno      20-24       0-2        no          2   left   \n",
              "3  60-69      ge40      15-19       0-2        no          2  right   \n",
              "4  40-49   premeno        0-4       0-2        no          2  right   \n",
              "\n",
              "  breast-quad irradiat  \n",
              "0    left_low       no  \n",
              "1    right_up       no  \n",
              "2    left_low       no  \n",
              "3     left_up       no  \n",
              "4   right_low       no  "
            ]
          },
          "execution_count": 11,
          "metadata": {},
          "output_type": "execute_result"
        }
      ],
      "source": [
        "X.head()"
      ]
    },
    {
      "cell_type": "code",
      "execution_count": 12,
      "metadata": {
        "colab": {
          "base_uri": "https://localhost:8080/"
        },
        "id": "JIE2BrImuf5W",
        "outputId": "28db32f2-3439-4945-d611-5abe478724b1"
      },
      "outputs": [
        {
          "data": {
            "text/plain": [
              "0    no-recurrence-events\n",
              "1    no-recurrence-events\n",
              "2    no-recurrence-events\n",
              "3    no-recurrence-events\n",
              "4    no-recurrence-events\n",
              "Name: Class, dtype: object"
            ]
          },
          "execution_count": 12,
          "metadata": {},
          "output_type": "execute_result"
        }
      ],
      "source": [
        "y.head()"
      ]
    },
    {
      "cell_type": "code",
      "execution_count": 13,
      "metadata": {
        "id": "8XNJvXuevO7k"
      },
      "outputs": [],
      "source": [
        "kolom_penting = ['menopause','breast','irradiat']"
      ]
    },
    {
      "cell_type": "code",
      "execution_count": 14,
      "metadata": {
        "colab": {
          "base_uri": "https://localhost:8080/",
          "height": 423
        },
        "id": "a-FBVqWBuiTg",
        "outputId": "57dcd05c-4e68-442a-cd61-2ec8d2fe8f82"
      },
      "outputs": [
        {
          "data": {
            "text/html": [
              "<div>\n",
              "<style scoped>\n",
              "    .dataframe tbody tr th:only-of-type {\n",
              "        vertical-align: middle;\n",
              "    }\n",
              "\n",
              "    .dataframe tbody tr th {\n",
              "        vertical-align: top;\n",
              "    }\n",
              "\n",
              "    .dataframe thead th {\n",
              "        text-align: right;\n",
              "    }\n",
              "</style>\n",
              "<table border=\"1\" class=\"dataframe\">\n",
              "  <thead>\n",
              "    <tr style=\"text-align: right;\">\n",
              "      <th></th>\n",
              "      <th>menopause</th>\n",
              "      <th>breast</th>\n",
              "      <th>irradiat</th>\n",
              "    </tr>\n",
              "  </thead>\n",
              "  <tbody>\n",
              "    <tr>\n",
              "      <th>0</th>\n",
              "      <td>premeno</td>\n",
              "      <td>left</td>\n",
              "      <td>no</td>\n",
              "    </tr>\n",
              "    <tr>\n",
              "      <th>1</th>\n",
              "      <td>premeno</td>\n",
              "      <td>right</td>\n",
              "      <td>no</td>\n",
              "    </tr>\n",
              "    <tr>\n",
              "      <th>2</th>\n",
              "      <td>premeno</td>\n",
              "      <td>left</td>\n",
              "      <td>no</td>\n",
              "    </tr>\n",
              "    <tr>\n",
              "      <th>3</th>\n",
              "      <td>ge40</td>\n",
              "      <td>right</td>\n",
              "      <td>no</td>\n",
              "    </tr>\n",
              "    <tr>\n",
              "      <th>4</th>\n",
              "      <td>premeno</td>\n",
              "      <td>right</td>\n",
              "      <td>no</td>\n",
              "    </tr>\n",
              "    <tr>\n",
              "      <th>...</th>\n",
              "      <td>...</td>\n",
              "      <td>...</td>\n",
              "      <td>...</td>\n",
              "    </tr>\n",
              "    <tr>\n",
              "      <th>281</th>\n",
              "      <td>premeno</td>\n",
              "      <td>left</td>\n",
              "      <td>no</td>\n",
              "    </tr>\n",
              "    <tr>\n",
              "      <th>282</th>\n",
              "      <td>premeno</td>\n",
              "      <td>left</td>\n",
              "      <td>yes</td>\n",
              "    </tr>\n",
              "    <tr>\n",
              "      <th>283</th>\n",
              "      <td>ge40</td>\n",
              "      <td>right</td>\n",
              "      <td>no</td>\n",
              "    </tr>\n",
              "    <tr>\n",
              "      <th>284</th>\n",
              "      <td>ge40</td>\n",
              "      <td>left</td>\n",
              "      <td>no</td>\n",
              "    </tr>\n",
              "    <tr>\n",
              "      <th>285</th>\n",
              "      <td>ge40</td>\n",
              "      <td>left</td>\n",
              "      <td>no</td>\n",
              "    </tr>\n",
              "  </tbody>\n",
              "</table>\n",
              "<p>286 rows × 3 columns</p>\n",
              "</div>"
            ],
            "text/plain": [
              "    menopause breast irradiat\n",
              "0     premeno   left       no\n",
              "1     premeno  right       no\n",
              "2     premeno   left       no\n",
              "3        ge40  right       no\n",
              "4     premeno  right       no\n",
              "..        ...    ...      ...\n",
              "281   premeno   left       no\n",
              "282   premeno   left      yes\n",
              "283      ge40  right       no\n",
              "284      ge40   left       no\n",
              "285      ge40   left       no\n",
              "\n",
              "[286 rows x 3 columns]"
            ]
          },
          "execution_count": 14,
          "metadata": {},
          "output_type": "execute_result"
        }
      ],
      "source": [
        "breast.loc[:,kolom_penting]"
      ]
    },
    {
      "cell_type": "markdown",
      "metadata": {
        "id": "iL_SfCD9vx6V"
      },
      "source": [
        "# Train test split"
      ]
    },
    {
      "cell_type": "code",
      "execution_count": 15,
      "metadata": {
        "id": "dV4hSW8fu6M2"
      },
      "outputs": [],
      "source": [
        "X_train, X_test, y_train, y_test = train_test_split(X,y)"
      ]
    },
    {
      "cell_type": "markdown",
      "metadata": {
        "id": "h0353XOXyVz_"
      },
      "source": [
        "# Data preparation"
      ]
    },
    {
      "cell_type": "code",
      "execution_count": 16,
      "metadata": {
        "colab": {
          "base_uri": "https://localhost:8080/",
          "height": 74
        },
        "id": "aG64Ju6OycNi",
        "outputId": "dff2245c-7e45-4a18-8a7f-26880544d849"
      },
      "outputs": [
        {
          "data": {
            "text/plain": [
              "SimpleImputer(strategy='most_frequent')"
            ]
          },
          "execution_count": 16,
          "metadata": {},
          "output_type": "execute_result"
        }
      ],
      "source": [
        "# Missing values\n",
        "imputer = SimpleImputer(missing_values=np.nan, strategy='most_frequent')\n",
        "imputer.fit(X_train)"
      ]
    },
    {
      "cell_type": "code",
      "execution_count": 17,
      "metadata": {
        "id": "4dPzsEKezgpK"
      },
      "outputs": [],
      "source": [
        "X_train = imputer.transform(X_train)\n",
        "X_test = imputer.transform(X_test)"
      ]
    },
    {
      "cell_type": "code",
      "execution_count": 18,
      "metadata": {
        "id": "XDgKwBET0OJv"
      },
      "outputs": [],
      "source": [
        "# Encoding = Categorical -> numerical\n",
        "# OneHotEncoding\n",
        "\n",
        "encoder = OneHotEncoder(handle_unknown='ignore')\n",
        "encoder.fit(X_train)\n",
        "\n",
        "X_train = encoder.transform(X_train)\n",
        "X_test = encoder.transform(X_test)"
      ]
    },
    {
      "cell_type": "markdown",
      "metadata": {
        "id": "qv39wLUSwtoD"
      },
      "source": [
        "# Models"
      ]
    },
    {
      "cell_type": "code",
      "execution_count": 19,
      "metadata": {
        "colab": {
          "base_uri": "https://localhost:8080/",
          "height": 74
        },
        "id": "69_1LYGdwkFF",
        "outputId": "defed0f8-efdc-4cc4-d97a-da37a1ddf102"
      },
      "outputs": [
        {
          "data": {
            "text/plain": [
              "LogisticRegression()"
            ]
          },
          "execution_count": 19,
          "metadata": {},
          "output_type": "execute_result"
        }
      ],
      "source": [
        "logreg = LogisticRegression()\n",
        "logreg.fit(X_train, y_train)"
      ]
    },
    {
      "cell_type": "code",
      "execution_count": 20,
      "metadata": {
        "id": "kihrWmgqyCiv"
      },
      "outputs": [],
      "source": [
        "y_pred_logreg = logreg.predict(X_test)"
      ]
    },
    {
      "cell_type": "markdown",
      "metadata": {
        "id": "XWynJb-r4Ufj"
      },
      "source": [
        "# Model evaluation"
      ]
    },
    {
      "cell_type": "code",
      "execution_count": 21,
      "metadata": {
        "colab": {
          "base_uri": "https://localhost:8080/"
        },
        "id": "a6GOclRT3bty",
        "outputId": "25e2f0d1-df0e-4271-9b2f-204d93f8259d"
      },
      "outputs": [
        {
          "name": "stdout",
          "output_type": "stream",
          "text": [
            "                      precision    recall  f1-score   support\n",
            "\n",
            "no-recurrence-events       0.85      0.78      0.82        60\n",
            "   recurrence-events       0.24      0.33      0.28        12\n",
            "\n",
            "            accuracy                           0.71        72\n",
            "           macro avg       0.54      0.56      0.55        72\n",
            "        weighted avg       0.75      0.71      0.73        72\n",
            "\n"
          ]
        }
      ],
      "source": [
        "print(classification_report(y_pred_logreg, y_test))"
      ]
    },
    {
      "cell_type": "code",
      "execution_count": 22,
      "metadata": {
        "colab": {
          "base_uri": "https://localhost:8080/"
        },
        "id": "56VGjurC430V",
        "outputId": "b84650b0-e61e-4840-d0f3-482ddb74058b"
      },
      "outputs": [
        {
          "data": {
            "text/plain": [
              "array([0.74418605, 0.69767442, 0.65116279, 0.69767442, 0.64285714])"
            ]
          },
          "execution_count": 22,
          "metadata": {},
          "output_type": "execute_result"
        }
      ],
      "source": [
        "# Cross validation\n",
        "cross_val_score(logreg,X_train, y_train, cv=5)"
      ]
    },
    {
      "cell_type": "markdown",
      "metadata": {
        "id": "ZYJ_4512Kc46"
      },
      "source": [
        "# Model selection"
      ]
    },
    {
      "cell_type": "code",
      "execution_count": 23,
      "metadata": {
        "id": "P9mlaQu97U4K"
      },
      "outputs": [],
      "source": [
        "svc = SVC()\n",
        "tree = DecisionTreeClassifier()\n",
        "forest = RandomForestClassifier()\n",
        "\n",
        "svc.fit(X_train, y_train)\n",
        "tree.fit(X_train, y_train)\n",
        "forest.fit(X_train, y_train)\n",
        "\n",
        "y_pred_svc = svc.predict(X_test)\n",
        "y_pred_tree = tree.predict(X_test)\n",
        "y_pred_forest = forest.predict(X_test)"
      ]
    },
    {
      "cell_type": "code",
      "execution_count": 24,
      "metadata": {
        "colab": {
          "base_uri": "https://localhost:8080/"
        },
        "id": "npwzo9OpLftQ",
        "outputId": "8d238ec3-2cb2-4531-bc28-ccd2ffe6d532"
      },
      "outputs": [
        {
          "name": "stdout",
          "output_type": "stream",
          "text": [
            "                      precision    recall  f1-score   support\n",
            "\n",
            "no-recurrence-events       1.00      0.80      0.89        69\n",
            "   recurrence-events       0.18      1.00      0.30         3\n",
            "\n",
            "            accuracy                           0.81        72\n",
            "           macro avg       0.59      0.90      0.59        72\n",
            "        weighted avg       0.97      0.81      0.86        72\n",
            "\n"
          ]
        }
      ],
      "source": [
        "print(classification_report(y_pred_svc,y_test))"
      ]
    },
    {
      "cell_type": "code",
      "execution_count": 25,
      "metadata": {
        "colab": {
          "base_uri": "https://localhost:8080/"
        },
        "id": "9PTYWy_0LsKf",
        "outputId": "8c5a18a4-1562-4b83-e3d1-16795df8ce82"
      },
      "outputs": [
        {
          "name": "stdout",
          "output_type": "stream",
          "text": [
            "                      precision    recall  f1-score   support\n",
            "\n",
            "no-recurrence-events       0.73      0.82      0.77        49\n",
            "   recurrence-events       0.47      0.35      0.40        23\n",
            "\n",
            "            accuracy                           0.67        72\n",
            "           macro avg       0.60      0.58      0.58        72\n",
            "        weighted avg       0.65      0.67      0.65        72\n",
            "\n"
          ]
        }
      ],
      "source": [
        "print(classification_report(y_pred_tree,y_test))"
      ]
    },
    {
      "cell_type": "code",
      "execution_count": 26,
      "metadata": {
        "colab": {
          "base_uri": "https://localhost:8080/"
        },
        "id": "t1gaNtCCLwjE",
        "outputId": "d081c36d-926e-4e3b-f8d7-e1f65e645a6e"
      },
      "outputs": [
        {
          "name": "stdout",
          "output_type": "stream",
          "text": [
            "                      precision    recall  f1-score   support\n",
            "\n",
            "no-recurrence-events       0.89      0.78      0.83        63\n",
            "   recurrence-events       0.18      0.33      0.23         9\n",
            "\n",
            "            accuracy                           0.72        72\n",
            "           macro avg       0.53      0.56      0.53        72\n",
            "        weighted avg       0.80      0.72      0.76        72\n",
            "\n"
          ]
        }
      ],
      "source": [
        "print(classification_report(y_pred_forest,y_test))"
      ]
    },
    {
      "cell_type": "markdown",
      "metadata": {
        "id": "uIhg91o1MZoB"
      },
      "source": [
        "# Hyper param tuning"
      ]
    },
    {
      "cell_type": "code",
      "execution_count": 27,
      "metadata": {
        "id": "cGId7Z84L0hz"
      },
      "outputs": [],
      "source": [
        "svc_linear = SVC(kernel='poly')"
      ]
    },
    {
      "cell_type": "code",
      "execution_count": 28,
      "metadata": {
        "colab": {
          "base_uri": "https://localhost:8080/",
          "height": 74
        },
        "id": "wmK2VurrNOlr",
        "outputId": "deaa2ce2-0667-454f-a270-65f7b195ee84"
      },
      "outputs": [
        {
          "data": {
            "text/plain": [
              "SVC(kernel='poly')"
            ]
          },
          "execution_count": 28,
          "metadata": {},
          "output_type": "execute_result"
        }
      ],
      "source": [
        "svc_linear.fit(X_train, y_train)"
      ]
    },
    {
      "cell_type": "code",
      "execution_count": 29,
      "metadata": {
        "id": "YsYJBd1kNTcM"
      },
      "outputs": [],
      "source": [
        "y_pred_svc_lin = svc_linear.predict(X_test)"
      ]
    },
    {
      "cell_type": "code",
      "execution_count": 30,
      "metadata": {
        "colab": {
          "base_uri": "https://localhost:8080/"
        },
        "id": "GVB8Qx93NY_B",
        "outputId": "cce1fbe7-376e-4391-c815-3b9a90baeab5"
      },
      "outputs": [
        {
          "name": "stdout",
          "output_type": "stream",
          "text": [
            "                      precision    recall  f1-score   support\n",
            "\n",
            "no-recurrence-events       0.95      0.80      0.87        65\n",
            "   recurrence-events       0.24      0.57      0.33         7\n",
            "\n",
            "            accuracy                           0.78        72\n",
            "           macro avg       0.59      0.69      0.60        72\n",
            "        weighted avg       0.88      0.78      0.81        72\n",
            "\n"
          ]
        }
      ],
      "source": [
        "print(classification_report(y_pred_svc_lin,y_test))"
      ]
    },
    {
      "cell_type": "code",
      "execution_count": 31,
      "metadata": {
        "id": "z6ZPqqhmNelY"
      },
      "outputs": [],
      "source": [
        "params = {\n",
        "    'C' : (0.1, 0.5, 1.0, 10.0),\n",
        "    'kernel' : ('linear','poly','sigmoid','rbf')\n",
        "}"
      ]
    },
    {
      "cell_type": "code",
      "execution_count": 32,
      "metadata": {
        "id": "3Gjlh14cOQKr"
      },
      "outputs": [],
      "source": [
        "svc_grid = GridSearchCV(svc, params, cv=5)"
      ]
    },
    {
      "cell_type": "code",
      "execution_count": 33,
      "metadata": {
        "colab": {
          "base_uri": "https://localhost:8080/",
          "height": 116
        },
        "id": "_RMjhumpOcYB",
        "outputId": "68426c71-41b1-4025-9be8-6546166b8f5c"
      },
      "outputs": [
        {
          "data": {
            "text/plain": [
              "GridSearchCV(cv=5, estimator=SVC(),\n",
              "             param_grid={'C': (0.1, 0.5, 1.0, 10.0),\n",
              "                         'kernel': ('linear', 'poly', 'sigmoid', 'rbf')})"
            ]
          },
          "execution_count": 33,
          "metadata": {},
          "output_type": "execute_result"
        }
      ],
      "source": [
        "svc_grid.fit(X_train, y_train)"
      ]
    },
    {
      "cell_type": "code",
      "execution_count": 34,
      "metadata": {
        "colab": {
          "base_uri": "https://localhost:8080/"
        },
        "id": "y_CAUVaQOhIN",
        "outputId": "2ba716ad-a12f-419b-af48-0ffd1f00316a"
      },
      "outputs": [
        {
          "name": "stdout",
          "output_type": "stream",
          "text": [
            "0.7335548172757476\n"
          ]
        }
      ],
      "source": [
        "print(svc_grid.best_score_)"
      ]
    },
    {
      "cell_type": "code",
      "execution_count": 35,
      "metadata": {
        "colab": {
          "base_uri": "https://localhost:8080/"
        },
        "id": "wf0XMxMuPHj6",
        "outputId": "675bacc9-8d8e-4e54-9bd6-8ced60696198"
      },
      "outputs": [
        {
          "name": "stdout",
          "output_type": "stream",
          "text": [
            "{'C': 1.0, 'kernel': 'poly'}\n"
          ]
        }
      ],
      "source": [
        "print(svc_grid.best_params_)"
      ]
    },
    {
      "cell_type": "markdown",
      "metadata": {
        "id": "6FeSMnvWSsrJ"
      },
      "source": [
        "# PyCaret"
      ]
    },
    {
      "cell_type": "code",
      "execution_count": 36,
      "metadata": {
        "colab": {
          "base_uri": "https://localhost:8080/"
        },
        "id": "AMTWQCXkPQO2",
        "outputId": "4a81edd2-23e2-4ec9-d714-3ce12e672c4c"
      },
      "outputs": [
        {
          "name": "stdout",
          "output_type": "stream",
          "text": [
            "^C\n"
          ]
        },
        {
          "name": "stdout",
          "output_type": "stream",
          "text": [
            "Requirement already satisfied: pycaret in c:\\users\\windows\\appdata\\roaming\\python\\python310\\site-packages (3.0.0rc9)\n",
            "Requirement already satisfied: category-encoders>=2.4.0 in c:\\users\\windows\\appdata\\roaming\\python\\python310\\site-packages (from pycaret) (2.6.0)\n",
            "Requirement already satisfied: schemdraw>=0.14 in c:\\users\\windows\\appdata\\roaming\\python\\python310\\site-packages (from pycaret) (0.15)\n",
            "Requirement already satisfied: ipython>=5.5.0 in c:\\users\\windows\\appdata\\local\\programs\\python\\python310\\lib\\site-packages (from pycaret) (7.31.0)\n",
            "Requirement already satisfied: lightgbm>=3.0.0 in c:\\users\\windows\\appdata\\roaming\\python\\python310\\site-packages (from pycaret) (3.3.5)\n",
            "Requirement already satisfied: yellowbrick>=1.4 in c:\\users\\windows\\appdata\\roaming\\python\\python310\\site-packages (from pycaret) (1.5)\n",
            "Requirement already satisfied: scipy<2.0.0 in c:\\users\\windows\\appdata\\local\\programs\\python\\python310\\lib\\site-packages (from pycaret) (1.7.3)\n",
            "Requirement already satisfied: importlib-metadata>=4.12.0 in c:\\users\\windows\\appdata\\roaming\\python\\python310\\site-packages (from pycaret) (6.0.0)\n",
            "Requirement already satisfied: pyod>=0.9.8 in c:\\users\\windows\\appdata\\roaming\\python\\python310\\site-packages (from pycaret) (1.0.8)\n",
            "Requirement already satisfied: scikit-plot>=0.3.7 in c:\\users\\windows\\appdata\\roaming\\python\\python310\\site-packages (from pycaret) (0.3.7)\n",
            "Requirement already satisfied: pandas<1.6.0,>=1.3.0 in c:\\users\\windows\\appdata\\local\\programs\\python\\python310\\lib\\site-packages (from pycaret) (1.3.5)\n",
            "Requirement already satisfied: tbats>=1.1.0 in c:\\users\\windows\\appdata\\roaming\\python\\python310\\site-packages (from pycaret) (1.1.2)\n",
            "Requirement already satisfied: numpy<1.25,>=1.21 in c:\\users\\windows\\appdata\\roaming\\python\\python310\\site-packages (from pycaret) (1.22.4)\n",
            "Requirement already satisfied: numba>=0.55.0 in c:\\users\\windows\\appdata\\roaming\\python\\python310\\site-packages (from pycaret) (0.56.4)\n",
            "Requirement already satisfied: joblib>=1.2.0 in c:\\users\\windows\\appdata\\roaming\\python\\python310\\site-packages (from pycaret) (1.2.0)\n",
            "Requirement already satisfied: matplotlib>=3.3.0 in c:\\users\\windows\\appdata\\local\\programs\\python\\python310\\lib\\site-packages (from pycaret) (3.5.1)\n",
            "Requirement already satisfied: statsmodels>=0.12.1 in c:\\users\\windows\\appdata\\roaming\\python\\python310\\site-packages (from pycaret) (0.13.5)\n",
            "Requirement already satisfied: ipywidgets>=7.6.5 in c:\\users\\windows\\appdata\\roaming\\python\\python310\\site-packages (from pycaret) (8.0.4)\n",
            "Requirement already satisfied: jinja2>=1.2 in c:\\users\\windows\\appdata\\local\\programs\\python\\python310\\lib\\site-packages (from pycaret) (3.1.2)\n",
            "Requirement already satisfied: scikit-learn>=1.0 in c:\\users\\windows\\appdata\\local\\programs\\python\\python310\\lib\\site-packages (from pycaret) (1.0.2)\n",
            "Requirement already satisfied: pmdarima!=1.8.1,<3.0.0,>=1.8.0 in c:\\users\\windows\\appdata\\roaming\\python\\python310\\site-packages (from pycaret) (2.0.2)\n",
            "Requirement already satisfied: sktime>=0.15.0 in c:\\users\\windows\\appdata\\roaming\\python\\python310\\site-packages (from pycaret) (0.16.1)\n",
            "Requirement already satisfied: markupsafe>=2.0.1 in c:\\users\\windows\\appdata\\local\\programs\\python\\python310\\lib\\site-packages (from pycaret) (2.1.1)\n",
            "Requirement already satisfied: requests>=2.27.1 in c:\\users\\windows\\appdata\\local\\programs\\python\\python310\\lib\\site-packages (from pycaret) (2.27.1)\n",
            "Requirement already satisfied: nbformat>=4.2.0 in c:\\users\\windows\\appdata\\local\\programs\\python\\python310\\lib\\site-packages (from pycaret) (5.4.0)\n",
            "Requirement already satisfied: plotly-resampler>=0.7.2.2 in c:\\users\\windows\\appdata\\roaming\\python\\python310\\site-packages (from pycaret) (0.8.4rc1)\n",
            "Requirement already satisfied: deprecation>=2.1.0 in c:\\users\\windows\\appdata\\roaming\\python\\python310\\site-packages (from pycaret) (2.1.0)\n",
            "Requirement already satisfied: kaleido>=0.2.1 in c:\\users\\windows\\appdata\\local\\programs\\python\\python310\\lib\\site-packages (from pycaret) (0.2.1)\n",
            "Requirement already satisfied: xxhash in c:\\users\\windows\\appdata\\roaming\\python\\python310\\site-packages (from pycaret) (3.2.0)\n",
            "Requirement already satisfied: imbalanced-learn>=0.8.1 in c:\\users\\windows\\appdata\\roaming\\python\\python310\\site-packages (from pycaret) (0.10.1)\n",
            "Requirement already satisfied: plotly>=5.0.0 in c:\\users\\windows\\appdata\\local\\programs\\python\\python310\\lib\\site-packages (from pycaret) (5.8.0)\n",
            "Requirement already satisfied: tqdm>=4.62.0 in c:\\users\\windows\\appdata\\local\\programs\\python\\python310\\lib\\site-packages (from pycaret) (4.64.0)\n",
            "Requirement already satisfied: cloudpickle in c:\\users\\windows\\appdata\\roaming\\python\\python310\\site-packages (from pycaret) (2.2.1)\n",
            "Requirement already satisfied: psutil>=5.9.0 in c:\\users\\windows\\appdata\\roaming\\python\\python310\\site-packages (from pycaret) (5.9.4)\n",
            "Requirement already satisfied: patsy>=0.5.1 in c:\\users\\windows\\appdata\\roaming\\python\\python310\\site-packages (from category-encoders>=2.4.0->pycaret) (0.5.3)\n",
            "Requirement already satisfied: packaging in c:\\users\\windows\\appdata\\local\\programs\\python\\python310\\lib\\site-packages (from deprecation>=2.1.0->pycaret) (21.3)\n",
            "Requirement already satisfied: threadpoolctl>=2.0.0 in c:\\users\\windows\\appdata\\local\\programs\\python\\python310\\lib\\site-packages (from imbalanced-learn>=0.8.1->pycaret) (3.0.0)\n",
            "Requirement already satisfied: zipp>=0.5 in c:\\users\\windows\\appdata\\roaming\\python\\python310\\site-packages (from importlib-metadata>=4.12.0->pycaret) (3.15.0)\n",
            "Requirement already satisfied: prompt-toolkit!=3.0.0,!=3.0.1,<3.1.0,>=2.0.0 in c:\\users\\windows\\appdata\\local\\programs\\python\\python310\\lib\\site-packages (from ipython>=5.5.0->pycaret) (3.0.24)\n",
            "Requirement already satisfied: matplotlib-inline in c:\\users\\windows\\appdata\\local\\programs\\python\\python310\\lib\\site-packages (from ipython>=5.5.0->pycaret) (0.1.3)\n",
            "Requirement already satisfied: colorama in c:\\users\\windows\\appdata\\local\\programs\\python\\python310\\lib\\site-packages (from ipython>=5.5.0->pycaret) (0.4.4)\n",
            "Requirement already satisfied: pygments in c:\\users\\windows\\appdata\\local\\programs\\python\\python310\\lib\\site-packages (from ipython>=5.5.0->pycaret) (2.11.1)\n",
            "Requirement already satisfied: jedi>=0.16 in c:\\users\\windows\\appdata\\local\\programs\\python\\python310\\lib\\site-packages (from ipython>=5.5.0->pycaret) (0.18.1)\n",
            "Requirement already satisfied: traitlets>=4.2 in c:\\users\\windows\\appdata\\local\\programs\\python\\python310\\lib\\site-packages (from ipython>=5.5.0->pycaret) (5.8.0)\n",
            "Requirement already satisfied: backcall in c:\\users\\windows\\appdata\\local\\programs\\python\\python310\\lib\\site-packages (from ipython>=5.5.0->pycaret) (0.2.0)\n",
            "Requirement already satisfied: setuptools>=18.5 in c:\\users\\windows\\appdata\\local\\programs\\python\\python310\\lib\\site-packages (from ipython>=5.5.0->pycaret) (63.2.0)\n",
            "Requirement already satisfied: decorator in c:\\users\\windows\\appdata\\local\\programs\\python\\python310\\lib\\site-packages (from ipython>=5.5.0->pycaret) (5.1.0)\n",
            "Requirement already satisfied: pickleshare in c:\\users\\windows\\appdata\\local\\programs\\python\\python310\\lib\\site-packages (from ipython>=5.5.0->pycaret) (0.7.5)\n",
            "Requirement already satisfied: ipykernel>=4.5.1 in c:\\users\\windows\\appdata\\local\\programs\\python\\python310\\lib\\site-packages (from ipywidgets>=7.6.5->pycaret) (6.6.1)\n",
            "Requirement already satisfied: widgetsnbextension~=4.0 in c:\\users\\windows\\appdata\\roaming\\python\\python310\\site-packages (from ipywidgets>=7.6.5->pycaret) (4.0.5)\n",
            "Requirement already satisfied: jupyterlab-widgets~=3.0 in c:\\users\\windows\\appdata\\roaming\\python\\python310\\site-packages (from ipywidgets>=7.6.5->pycaret) (3.0.5)\n",
            "Requirement already satisfied: wheel in c:\\users\\windows\\appdata\\roaming\\python\\python310\\site-packages (from lightgbm>=3.0.0->pycaret) (0.38.4)\n",
            "Requirement already satisfied: cycler>=0.10 in c:\\users\\windows\\appdata\\local\\programs\\python\\python310\\lib\\site-packages (from matplotlib>=3.3.0->pycaret) (0.11.0)\n",
            "Requirement already satisfied: pillow>=6.2.0 in c:\\users\\windows\\appdata\\local\\programs\\python\\python310\\lib\\site-packages (from matplotlib>=3.3.0->pycaret) (9.0.0)\n",
            "Requirement already satisfied: python-dateutil>=2.7 in c:\\users\\windows\\appdata\\local\\programs\\python\\python310\\lib\\site-packages (from matplotlib>=3.3.0->pycaret) (2.8.2)\n",
            "Requirement already satisfied: fonttools>=4.22.0 in c:\\users\\windows\\appdata\\local\\programs\\python\\python310\\lib\\site-packages (from matplotlib>=3.3.0->pycaret) (4.28.5)\n",
            "Requirement already satisfied: kiwisolver>=1.0.1 in c:\\users\\windows\\appdata\\local\\programs\\python\\python310\\lib\\site-packages (from matplotlib>=3.3.0->pycaret) (1.3.2)\n",
            "Requirement already satisfied: pyparsing>=2.2.1 in c:\\users\\windows\\appdata\\local\\programs\\python\\python310\\lib\\site-packages (from matplotlib>=3.3.0->pycaret) (3.0.6)\n",
            "Requirement already satisfied: jupyter-core in c:\\users\\windows\\appdata\\local\\programs\\python\\python310\\lib\\site-packages (from nbformat>=4.2.0->pycaret) (5.1.0)\n",
            "Requirement already satisfied: fastjsonschema in c:\\users\\windows\\appdata\\local\\programs\\python\\python310\\lib\\site-packages (from nbformat>=4.2.0->pycaret) (2.15.3)\n",
            "Requirement already satisfied: jsonschema>=2.6 in c:\\users\\windows\\appdata\\local\\programs\\python\\python310\\lib\\site-packages (from nbformat>=4.2.0->pycaret) (4.5.1)\n",
            "Requirement already satisfied: llvmlite<0.40,>=0.39.0dev0 in c:\\users\\windows\\appdata\\roaming\\python\\python310\\site-packages (from numba>=0.55.0->pycaret) (0.39.1)\n",
            "Requirement already satisfied: pytz>=2017.3 in c:\\users\\windows\\appdata\\local\\programs\\python\\python310\\lib\\site-packages (from pandas<1.6.0,>=1.3.0->pycaret) (2021.3)\n",
            "Requirement already satisfied: tenacity>=6.2.0 in c:\\users\\windows\\appdata\\local\\programs\\python\\python310\\lib\\site-packages (from plotly>=5.0.0->pycaret) (8.0.1)\n",
            "Requirement already satisfied: Flask-Cors<4.0.0,>=3.0.10 in c:\\users\\windows\\appdata\\roaming\\python\\python310\\site-packages (from plotly-resampler>=0.7.2.2->pycaret) (3.0.10)\n",
            "Requirement already satisfied: Werkzeug<=2.1.2 in c:\\users\\windows\\appdata\\roaming\\python\\python310\\site-packages (from plotly-resampler>=0.7.2.2->pycaret) (2.1.2)\n",
            "Requirement already satisfied: jupyter-dash>=0.4.2 in c:\\users\\windows\\appdata\\roaming\\python\\python310\\site-packages (from plotly-resampler>=0.7.2.2->pycaret) (0.4.2)\n",
            "Requirement already satisfied: orjson<4.0.0,>=3.8.0 in c:\\users\\windows\\appdata\\roaming\\python\\python310\\site-packages (from plotly-resampler>=0.7.2.2->pycaret) (3.8.7)\n",
            "Requirement already satisfied: dash<3.0.0,>=2.2.0 in c:\\users\\windows\\appdata\\roaming\\python\\python310\\site-packages (from plotly-resampler>=0.7.2.2->pycaret) (2.8.1)\n",
            "Requirement already satisfied: trace-updater>=0.0.8 in c:\\users\\windows\\appdata\\roaming\\python\\python310\\site-packages (from plotly-resampler>=0.7.2.2->pycaret) (0.0.9)\n",
            "Requirement already satisfied: urllib3 in c:\\users\\windows\\appdata\\local\\programs\\python\\python310\\lib\\site-packages (from pmdarima!=1.8.1,<3.0.0,>=1.8.0->pycaret) (1.26.8)\n",
            "Requirement already satisfied: Cython!=0.29.18,!=0.29.31,>=0.29 in c:\\users\\windows\\appdata\\roaming\\python\\python310\\site-packages (from pmdarima!=1.8.1,<3.0.0,>=1.8.0->pycaret) (3.0.0b1)\n",
            "Requirement already satisfied: six in c:\\users\\windows\\appdata\\local\\programs\\python\\python310\\lib\\site-packages (from pyod>=0.9.8->pycaret) (1.16.0)\n",
            "Requirement already satisfied: charset-normalizer~=2.0.0 in c:\\users\\windows\\appdata\\local\\programs\\python\\python310\\lib\\site-packages (from requests>=2.27.1->pycaret) (2.0.12)\n",
            "Requirement already satisfied: certifi>=2017.4.17 in c:\\users\\windows\\appdata\\local\\programs\\python\\python310\\lib\\site-packages (from requests>=2.27.1->pycaret) (2021.10.8)\n",
            "Requirement already satisfied: idna<4,>=2.5 in c:\\users\\windows\\appdata\\local\\programs\\python\\python310\\lib\\site-packages (from requests>=2.27.1->pycaret) (3.3)\n",
            "Requirement already satisfied: deprecated>=1.2.13 in c:\\users\\windows\\appdata\\roaming\\python\\python310\\site-packages (from sktime>=0.15.0->pycaret) (1.2.13)\n",
            "Requirement already satisfied: dash-table==5.0.0 in c:\\users\\windows\\appdata\\roaming\\python\\python310\\site-packages (from dash<3.0.0,>=2.2.0->plotly-resampler>=0.7.2.2->pycaret) (5.0.0)\n",
            "Requirement already satisfied: Flask>=1.0.4 in c:\\users\\windows\\appdata\\roaming\\python\\python310\\site-packages (from dash<3.0.0,>=2.2.0->plotly-resampler>=0.7.2.2->pycaret) (2.1.3)\n",
            "Requirement already satisfied: dash-html-components==2.0.0 in c:\\users\\windows\\appdata\\roaming\\python\\python310\\site-packages (from dash<3.0.0,>=2.2.0->plotly-resampler>=0.7.2.2->pycaret) (2.0.0)\n",
            "Requirement already satisfied: dash-core-components==2.0.0 in c:\\users\\windows\\appdata\\roaming\\python\\python310\\site-packages (from dash<3.0.0,>=2.2.0->plotly-resampler>=0.7.2.2->pycaret) (2.0.0)\n",
            "Requirement already satisfied: wrapt<2,>=1.10 in c:\\users\\windows\\appdata\\roaming\\python\\python310\\site-packages (from deprecated>=1.2.13->sktime>=0.15.0->pycaret) (1.15.0)\n",
            "Requirement already satisfied: debugpy<2.0,>=1.0.0 in c:\\users\\windows\\appdata\\local\\programs\\python\\python310\\lib\\site-packages (from ipykernel>=4.5.1->ipywidgets>=7.6.5->pycaret) (1.5.1)\n",
            "Requirement already satisfied: nest-asyncio in c:\\users\\windows\\appdata\\local\\programs\\python\\python310\\lib\\site-packages (from ipykernel>=4.5.1->ipywidgets>=7.6.5->pycaret) (1.5.4)\n",
            "Requirement already satisfied: jupyter-client<8.0 in c:\\users\\windows\\appdata\\local\\programs\\python\\python310\\lib\\site-packages (from ipykernel>=4.5.1->ipywidgets>=7.6.5->pycaret) (7.1.0)\n",
            "Requirement already satisfied: tornado<7.0,>=4.2 in c:\\users\\windows\\appdata\\local\\programs\\python\\python310\\lib\\site-packages (from ipykernel>=4.5.1->ipywidgets>=7.6.5->pycaret) (6.1)\n",
            "Requirement already satisfied: parso<0.9.0,>=0.8.0 in c:\\users\\windows\\appdata\\local\\programs\\python\\python310\\lib\\site-packages (from jedi>=0.16->ipython>=5.5.0->pycaret) (0.8.3)\n",
            "Requirement already satisfied: attrs>=17.4.0 in c:\\users\\windows\\appdata\\local\\programs\\python\\python310\\lib\\site-packages (from jsonschema>=2.6->nbformat>=4.2.0->pycaret) (21.4.0)\n",
            "Requirement already satisfied: pyrsistent!=0.17.0,!=0.17.1,!=0.17.2,>=0.14.0 in c:\\users\\windows\\appdata\\local\\programs\\python\\python310\\lib\\site-packages (from jsonschema>=2.6->nbformat>=4.2.0->pycaret) (0.18.1)\n",
            "Requirement already satisfied: retrying in c:\\users\\windows\\appdata\\roaming\\python\\python310\\site-packages (from jupyter-dash>=0.4.2->plotly-resampler>=0.7.2.2->pycaret) (1.3.4)\n",
            "Requirement already satisfied: ansi2html in c:\\users\\windows\\appdata\\roaming\\python\\python310\\site-packages (from jupyter-dash>=0.4.2->plotly-resampler>=0.7.2.2->pycaret) (1.9.0rc1)\n",
            "Requirement already satisfied: wcwidth in c:\\users\\windows\\appdata\\local\\programs\\python\\python310\\lib\\site-packages (from prompt-toolkit!=3.0.0,!=3.0.1,<3.1.0,>=2.0.0->ipython>=5.5.0->pycaret) (0.2.5)\n",
            "Requirement already satisfied: pywin32>=1.0 in c:\\users\\windows\\appdata\\local\\programs\\python\\python310\\lib\\site-packages (from jupyter-core->nbformat>=4.2.0->pycaret) (303)\n",
            "Requirement already satisfied: platformdirs>=2.5 in c:\\users\\windows\\appdata\\local\\programs\\python\\python310\\lib\\site-packages (from jupyter-core->nbformat>=4.2.0->pycaret) (2.6.0)\n",
            "Requirement already satisfied: click>=8.0 in c:\\users\\windows\\appdata\\local\\programs\\python\\python310\\lib\\site-packages (from Flask>=1.0.4->dash<3.0.0,>=2.2.0->plotly-resampler>=0.7.2.2->pycaret) (8.1.3)\n",
            "Requirement already satisfied: itsdangerous>=2.0 in c:\\users\\windows\\appdata\\roaming\\python\\python310\\site-packages (from Flask>=1.0.4->dash<3.0.0,>=2.2.0->plotly-resampler>=0.7.2.2->pycaret) (2.1.2)\n",
            "Requirement already satisfied: pyzmq>=13 in c:\\users\\windows\\appdata\\local\\programs\\python\\python310\\lib\\site-packages (from jupyter-client<8.0->ipykernel>=4.5.1->ipywidgets>=7.6.5->pycaret) (22.3.0)\n",
            "Requirement already satisfied: entrypoints in c:\\users\\windows\\appdata\\local\\programs\\python\\python310\\lib\\site-packages (from jupyter-client<8.0->ipykernel>=4.5.1->ipywidgets>=7.6.5->pycaret) (0.3)\n"
          ]
        },
        {
          "name": "stderr",
          "output_type": "stream",
          "text": [
            "\n",
            "[notice] A new release of pip available: 22.3.1 -> 23.0.1\n",
            "[notice] To update, run: python.exe -m pip install --upgrade pip\n"
          ]
        }
      ],
      "source": [
        "!pip install --pre pycaret"
      ]
    },
    {
      "cell_type": "code",
      "execution_count": 37,
      "metadata": {
        "colab": {
          "base_uri": "https://localhost:8080/",
          "height": 354
        },
        "id": "RYy64yD1P3DR",
        "outputId": "2a962e13-1b1d-435d-e760-5c55884ce37c"
      },
      "outputs": [
        {
          "data": {
            "text/html": [
              "<div>\n",
              "<style scoped>\n",
              "    .dataframe tbody tr th:only-of-type {\n",
              "        vertical-align: middle;\n",
              "    }\n",
              "\n",
              "    .dataframe tbody tr th {\n",
              "        vertical-align: top;\n",
              "    }\n",
              "\n",
              "    .dataframe thead th {\n",
              "        text-align: right;\n",
              "    }\n",
              "</style>\n",
              "<table border=\"1\" class=\"dataframe\">\n",
              "  <thead>\n",
              "    <tr style=\"text-align: right;\">\n",
              "      <th></th>\n",
              "      <th>Class</th>\n",
              "      <th>age</th>\n",
              "      <th>menopause</th>\n",
              "      <th>tumor-size</th>\n",
              "      <th>inv-nodes</th>\n",
              "      <th>node-caps</th>\n",
              "      <th>deg-malig</th>\n",
              "      <th>breast</th>\n",
              "      <th>breast-quad</th>\n",
              "      <th>irradiat</th>\n",
              "    </tr>\n",
              "  </thead>\n",
              "  <tbody>\n",
              "    <tr>\n",
              "      <th>0</th>\n",
              "      <td>no-recurrence-events</td>\n",
              "      <td>30-39</td>\n",
              "      <td>premeno</td>\n",
              "      <td>30-34</td>\n",
              "      <td>0-2</td>\n",
              "      <td>no</td>\n",
              "      <td>3</td>\n",
              "      <td>left</td>\n",
              "      <td>left_low</td>\n",
              "      <td>no</td>\n",
              "    </tr>\n",
              "    <tr>\n",
              "      <th>1</th>\n",
              "      <td>no-recurrence-events</td>\n",
              "      <td>40-49</td>\n",
              "      <td>premeno</td>\n",
              "      <td>20-24</td>\n",
              "      <td>0-2</td>\n",
              "      <td>no</td>\n",
              "      <td>2</td>\n",
              "      <td>right</td>\n",
              "      <td>right_up</td>\n",
              "      <td>no</td>\n",
              "    </tr>\n",
              "    <tr>\n",
              "      <th>2</th>\n",
              "      <td>no-recurrence-events</td>\n",
              "      <td>40-49</td>\n",
              "      <td>premeno</td>\n",
              "      <td>20-24</td>\n",
              "      <td>0-2</td>\n",
              "      <td>no</td>\n",
              "      <td>2</td>\n",
              "      <td>left</td>\n",
              "      <td>left_low</td>\n",
              "      <td>no</td>\n",
              "    </tr>\n",
              "    <tr>\n",
              "      <th>3</th>\n",
              "      <td>no-recurrence-events</td>\n",
              "      <td>60-69</td>\n",
              "      <td>ge40</td>\n",
              "      <td>15-19</td>\n",
              "      <td>0-2</td>\n",
              "      <td>no</td>\n",
              "      <td>2</td>\n",
              "      <td>right</td>\n",
              "      <td>left_up</td>\n",
              "      <td>no</td>\n",
              "    </tr>\n",
              "    <tr>\n",
              "      <th>4</th>\n",
              "      <td>no-recurrence-events</td>\n",
              "      <td>40-49</td>\n",
              "      <td>premeno</td>\n",
              "      <td>0-4</td>\n",
              "      <td>0-2</td>\n",
              "      <td>no</td>\n",
              "      <td>2</td>\n",
              "      <td>right</td>\n",
              "      <td>right_low</td>\n",
              "      <td>no</td>\n",
              "    </tr>\n",
              "  </tbody>\n",
              "</table>\n",
              "</div>"
            ],
            "text/plain": [
              "                  Class    age menopause tumor-size inv-nodes node-caps  \\\n",
              "0  no-recurrence-events  30-39   premeno      30-34       0-2        no   \n",
              "1  no-recurrence-events  40-49   premeno      20-24       0-2        no   \n",
              "2  no-recurrence-events  40-49   premeno      20-24       0-2        no   \n",
              "3  no-recurrence-events  60-69      ge40      15-19       0-2        no   \n",
              "4  no-recurrence-events  40-49   premeno        0-4       0-2        no   \n",
              "\n",
              "   deg-malig breast breast-quad irradiat  \n",
              "0          3   left    left_low       no  \n",
              "1          2  right    right_up       no  \n",
              "2          2   left    left_low       no  \n",
              "3          2  right     left_up       no  \n",
              "4          2  right   right_low       no  "
            ]
          },
          "execution_count": 37,
          "metadata": {},
          "output_type": "execute_result"
        }
      ],
      "source": [
        "breast.head()"
      ]
    },
    {
      "cell_type": "code",
      "execution_count": 38,
      "metadata": {
        "colab": {
          "base_uri": "https://localhost:8080/",
          "height": 802
        },
        "id": "0BucYWimQZEC",
        "outputId": "a4dd8cd0-e77e-4386-ca33-0ad262cfff1b"
      },
      "outputs": [],
      "source": [
        "from pycaret.classification import *\n",
        "s = setup(breast, target='Class')"
      ]
    },
    {
      "cell_type": "code",
      "execution_count": 42,
      "metadata": {
        "colab": {
          "base_uri": "https://localhost:8080/",
          "height": 519,
          "referenced_widgets": [
            "c2e58f02cbd94440bf7201737fd2eda8",
            "4200e651ed1a4bac88def9bcad4e0a72",
            "f9596a3c9ed74becae0fee4226495d46",
            "0ae8478e409c4bc9a02e3f53bb171fea",
            "e69471e13f134233aea6b6e579bece93",
            "6ac2ad4df587450bae1e6b0a45f32e3b",
            "b0aadb17962a4ed2a751304160567730",
            "1b2885680edb46e49de4f00bbe101167",
            "2aaced586bca4e0b9bb7f1f938c303cf",
            "8e28c879dc6c45d596261edd8cefafad",
            "0189fb0ef66d4d6b994cefcc48bcf6ae"
          ]
        },
        "id": "YR0bCS39Qll-",
        "outputId": "fe3729cf-2ed1-41a4-8685-f0ea5a4211f0"
      },
      "outputs": [
        {
          "data": {
            "text/html": [
              "<div>\n",
              "<style scoped>\n",
              "    .dataframe tbody tr th:only-of-type {\n",
              "        vertical-align: middle;\n",
              "    }\n",
              "\n",
              "    .dataframe tbody tr th {\n",
              "        vertical-align: top;\n",
              "    }\n",
              "\n",
              "    .dataframe thead th {\n",
              "        text-align: right;\n",
              "    }\n",
              "</style>\n",
              "<table border=\"1\" class=\"dataframe\">\n",
              "  <thead>\n",
              "    <tr style=\"text-align: right;\">\n",
              "      <th></th>\n",
              "      <th></th>\n",
              "      <th></th>\n",
              "    </tr>\n",
              "    <tr>\n",
              "      <th></th>\n",
              "      <th></th>\n",
              "      <th></th>\n",
              "    </tr>\n",
              "  </thead>\n",
              "  <tbody>\n",
              "    <tr>\n",
              "      <th>Initiated</th>\n",
              "      <td>. . . . . . . . . . . . . . . . . .</td>\n",
              "      <td>15:29:39</td>\n",
              "    </tr>\n",
              "    <tr>\n",
              "      <th>Status</th>\n",
              "      <td>. . . . . . . . . . . . . . . . . .</td>\n",
              "      <td>Fitting 10 Folds</td>\n",
              "    </tr>\n",
              "    <tr>\n",
              "      <th>Estimator</th>\n",
              "      <td>. . . . . . . . . . . . . . . . . .</td>\n",
              "      <td>Logistic Regression</td>\n",
              "    </tr>\n",
              "  </tbody>\n",
              "</table>\n",
              "</div>"
            ],
            "text/plain": [
              "                                                                   \n",
              "                                                                   \n",
              "Initiated  . . . . . . . . . . . . . . . . . .             15:29:39\n",
              "Status     . . . . . . . . . . . . . . . . . .     Fitting 10 Folds\n",
              "Estimator  . . . . . . . . . . . . . . . . . .  Logistic Regression"
            ]
          },
          "metadata": {},
          "output_type": "display_data"
        },
        {
          "data": {
            "text/html": [
              "<style type=\"text/css\">\n",
              "#T_64b62_ th {\n",
              "  text-align: left;\n",
              "}\n",
              "#T_64b62_row0_col0, #T_64b62_row0_col2, #T_64b62_row0_col3, #T_64b62_row1_col0, #T_64b62_row1_col1, #T_64b62_row1_col3, #T_64b62_row1_col4, #T_64b62_row1_col5, #T_64b62_row1_col6, #T_64b62_row1_col7, #T_64b62_row2_col0, #T_64b62_row2_col1, #T_64b62_row2_col2, #T_64b62_row2_col3, #T_64b62_row2_col4, #T_64b62_row2_col5, #T_64b62_row2_col6, #T_64b62_row2_col7, #T_64b62_row3_col0, #T_64b62_row3_col1, #T_64b62_row3_col2, #T_64b62_row3_col3, #T_64b62_row3_col4, #T_64b62_row3_col5, #T_64b62_row3_col6, #T_64b62_row3_col7, #T_64b62_row4_col0, #T_64b62_row4_col1, #T_64b62_row4_col2, #T_64b62_row4_col3, #T_64b62_row4_col4, #T_64b62_row4_col5, #T_64b62_row4_col6, #T_64b62_row4_col7, #T_64b62_row5_col0, #T_64b62_row5_col1, #T_64b62_row5_col2, #T_64b62_row5_col3, #T_64b62_row5_col4, #T_64b62_row5_col5, #T_64b62_row5_col6, #T_64b62_row5_col7, #T_64b62_row6_col0, #T_64b62_row6_col1, #T_64b62_row6_col2, #T_64b62_row6_col3, #T_64b62_row6_col4, #T_64b62_row6_col5, #T_64b62_row6_col6, #T_64b62_row6_col7, #T_64b62_row7_col0, #T_64b62_row7_col1, #T_64b62_row7_col2, #T_64b62_row7_col3, #T_64b62_row7_col4, #T_64b62_row7_col5, #T_64b62_row7_col6, #T_64b62_row7_col7, #T_64b62_row8_col0, #T_64b62_row8_col1, #T_64b62_row8_col2, #T_64b62_row8_col3, #T_64b62_row8_col4, #T_64b62_row8_col5, #T_64b62_row8_col6, #T_64b62_row8_col7, #T_64b62_row9_col0, #T_64b62_row9_col1, #T_64b62_row9_col2, #T_64b62_row9_col3, #T_64b62_row9_col4, #T_64b62_row9_col5, #T_64b62_row9_col6, #T_64b62_row9_col7, #T_64b62_row10_col0, #T_64b62_row10_col1, #T_64b62_row10_col2, #T_64b62_row10_col3, #T_64b62_row10_col4, #T_64b62_row10_col5, #T_64b62_row10_col6, #T_64b62_row10_col7, #T_64b62_row11_col0, #T_64b62_row11_col1, #T_64b62_row11_col2, #T_64b62_row11_col3, #T_64b62_row11_col4, #T_64b62_row11_col5, #T_64b62_row11_col6, #T_64b62_row11_col7, #T_64b62_row12_col0, #T_64b62_row12_col1, #T_64b62_row12_col2, #T_64b62_row12_col4, #T_64b62_row12_col5, #T_64b62_row12_col6, #T_64b62_row12_col7, #T_64b62_row13_col0, #T_64b62_row13_col1, #T_64b62_row13_col2, #T_64b62_row13_col3, #T_64b62_row13_col4, #T_64b62_row13_col5, #T_64b62_row13_col6, #T_64b62_row13_col7 {\n",
              "  text-align: left;\n",
              "}\n",
              "#T_64b62_row0_col1, #T_64b62_row0_col4, #T_64b62_row0_col5, #T_64b62_row0_col6, #T_64b62_row0_col7, #T_64b62_row1_col2, #T_64b62_row12_col3 {\n",
              "  text-align: left;\n",
              "  background-color: yellow;\n",
              "}\n",
              "#T_64b62_row0_col8, #T_64b62_row1_col8, #T_64b62_row2_col8, #T_64b62_row3_col8, #T_64b62_row4_col8, #T_64b62_row5_col8, #T_64b62_row7_col8, #T_64b62_row8_col8, #T_64b62_row9_col8, #T_64b62_row10_col8, #T_64b62_row11_col8, #T_64b62_row12_col8, #T_64b62_row13_col8 {\n",
              "  text-align: left;\n",
              "  background-color: lightgrey;\n",
              "}\n",
              "#T_64b62_row6_col8 {\n",
              "  text-align: left;\n",
              "  background-color: yellow;\n",
              "  background-color: lightgrey;\n",
              "}\n",
              "</style>\n",
              "<table id=\"T_64b62_\">\n",
              "  <thead>\n",
              "    <tr>\n",
              "      <th class=\"blank level0\" >&nbsp;</th>\n",
              "      <th class=\"col_heading level0 col0\" >Model</th>\n",
              "      <th class=\"col_heading level0 col1\" >Accuracy</th>\n",
              "      <th class=\"col_heading level0 col2\" >AUC</th>\n",
              "      <th class=\"col_heading level0 col3\" >Recall</th>\n",
              "      <th class=\"col_heading level0 col4\" >Prec.</th>\n",
              "      <th class=\"col_heading level0 col5\" >F1</th>\n",
              "      <th class=\"col_heading level0 col6\" >Kappa</th>\n",
              "      <th class=\"col_heading level0 col7\" >MCC</th>\n",
              "      <th class=\"col_heading level0 col8\" >TT (Sec)</th>\n",
              "    </tr>\n",
              "  </thead>\n",
              "  <tbody>\n",
              "    <tr>\n",
              "      <th id=\"T_64b62_level0_row0\" class=\"row_heading level0 row0\" >knn</th>\n",
              "      <td id=\"T_64b62_row0_col0\" class=\"data row0 col0\" >K Neighbors Classifier</td>\n",
              "      <td id=\"T_64b62_row0_col1\" class=\"data row0 col1\" >0.7700</td>\n",
              "      <td id=\"T_64b62_row0_col2\" class=\"data row0 col2\" >0.7212</td>\n",
              "      <td id=\"T_64b62_row0_col3\" class=\"data row0 col3\" >0.4367</td>\n",
              "      <td id=\"T_64b62_row0_col4\" class=\"data row0 col4\" >0.6892</td>\n",
              "      <td id=\"T_64b62_row0_col5\" class=\"data row0 col5\" >0.5062</td>\n",
              "      <td id=\"T_64b62_row0_col6\" class=\"data row0 col6\" >0.3730</td>\n",
              "      <td id=\"T_64b62_row0_col7\" class=\"data row0 col7\" >0.4037</td>\n",
              "      <td id=\"T_64b62_row0_col8\" class=\"data row0 col8\" >0.0470</td>\n",
              "    </tr>\n",
              "    <tr>\n",
              "      <th id=\"T_64b62_level0_row1\" class=\"row_heading level0 row1\" >rf</th>\n",
              "      <td id=\"T_64b62_row1_col0\" class=\"data row1 col0\" >Random Forest Classifier</td>\n",
              "      <td id=\"T_64b62_row1_col1\" class=\"data row1 col1\" >0.7600</td>\n",
              "      <td id=\"T_64b62_row1_col2\" class=\"data row1 col2\" >0.7665</td>\n",
              "      <td id=\"T_64b62_row1_col3\" class=\"data row1 col3\" >0.4033</td>\n",
              "      <td id=\"T_64b62_row1_col4\" class=\"data row1 col4\" >0.6314</td>\n",
              "      <td id=\"T_64b62_row1_col5\" class=\"data row1 col5\" >0.4546</td>\n",
              "      <td id=\"T_64b62_row1_col6\" class=\"data row1 col6\" >0.3340</td>\n",
              "      <td id=\"T_64b62_row1_col7\" class=\"data row1 col7\" >0.3654</td>\n",
              "      <td id=\"T_64b62_row1_col8\" class=\"data row1 col8\" >0.0590</td>\n",
              "    </tr>\n",
              "    <tr>\n",
              "      <th id=\"T_64b62_level0_row2\" class=\"row_heading level0 row2\" >lr</th>\n",
              "      <td id=\"T_64b62_row2_col0\" class=\"data row2 col0\" >Logistic Regression</td>\n",
              "      <td id=\"T_64b62_row2_col1\" class=\"data row2 col1\" >0.7400</td>\n",
              "      <td id=\"T_64b62_row2_col2\" class=\"data row2 col2\" >0.7261</td>\n",
              "      <td id=\"T_64b62_row2_col3\" class=\"data row2 col3\" >0.4400</td>\n",
              "      <td id=\"T_64b62_row2_col4\" class=\"data row2 col4\" >0.6155</td>\n",
              "      <td id=\"T_64b62_row2_col5\" class=\"data row2 col5\" >0.4902</td>\n",
              "      <td id=\"T_64b62_row2_col6\" class=\"data row2 col6\" >0.3247</td>\n",
              "      <td id=\"T_64b62_row2_col7\" class=\"data row2 col7\" >0.3457</td>\n",
              "      <td id=\"T_64b62_row2_col8\" class=\"data row2 col8\" >0.0560</td>\n",
              "    </tr>\n",
              "    <tr>\n",
              "      <th id=\"T_64b62_level0_row3\" class=\"row_heading level0 row3\" >ada</th>\n",
              "      <td id=\"T_64b62_row3_col0\" class=\"data row3 col0\" >Ada Boost Classifier</td>\n",
              "      <td id=\"T_64b62_row3_col1\" class=\"data row3 col1\" >0.7400</td>\n",
              "      <td id=\"T_64b62_row3_col2\" class=\"data row3 col2\" >0.6733</td>\n",
              "      <td id=\"T_64b62_row3_col3\" class=\"data row3 col3\" >0.4733</td>\n",
              "      <td id=\"T_64b62_row3_col4\" class=\"data row3 col4\" >0.5355</td>\n",
              "      <td id=\"T_64b62_row3_col5\" class=\"data row3 col5\" >0.4925</td>\n",
              "      <td id=\"T_64b62_row3_col6\" class=\"data row3 col6\" >0.3310</td>\n",
              "      <td id=\"T_64b62_row3_col7\" class=\"data row3 col7\" >0.3326</td>\n",
              "      <td id=\"T_64b62_row3_col8\" class=\"data row3 col8\" >0.0580</td>\n",
              "    </tr>\n",
              "    <tr>\n",
              "      <th id=\"T_64b62_level0_row4\" class=\"row_heading level0 row4\" >et</th>\n",
              "      <td id=\"T_64b62_row4_col0\" class=\"data row4 col0\" >Extra Trees Classifier</td>\n",
              "      <td id=\"T_64b62_row4_col1\" class=\"data row4 col1\" >0.7350</td>\n",
              "      <td id=\"T_64b62_row4_col2\" class=\"data row4 col2\" >0.7259</td>\n",
              "      <td id=\"T_64b62_row4_col3\" class=\"data row4 col3\" >0.4367</td>\n",
              "      <td id=\"T_64b62_row4_col4\" class=\"data row4 col4\" >0.5776</td>\n",
              "      <td id=\"T_64b62_row4_col5\" class=\"data row4 col5\" >0.4656</td>\n",
              "      <td id=\"T_64b62_row4_col6\" class=\"data row4 col6\" >0.3041</td>\n",
              "      <td id=\"T_64b62_row4_col7\" class=\"data row4 col7\" >0.3258</td>\n",
              "      <td id=\"T_64b62_row4_col8\" class=\"data row4 col8\" >0.0580</td>\n",
              "    </tr>\n",
              "    <tr>\n",
              "      <th id=\"T_64b62_level0_row5\" class=\"row_heading level0 row5\" >lightgbm</th>\n",
              "      <td id=\"T_64b62_row5_col0\" class=\"data row5 col0\" >Light Gradient Boosting Machine</td>\n",
              "      <td id=\"T_64b62_row5_col1\" class=\"data row5 col1\" >0.7250</td>\n",
              "      <td id=\"T_64b62_row5_col2\" class=\"data row5 col2\" >0.6810</td>\n",
              "      <td id=\"T_64b62_row5_col3\" class=\"data row5 col3\" >0.3900</td>\n",
              "      <td id=\"T_64b62_row5_col4\" class=\"data row5 col4\" >0.5800</td>\n",
              "      <td id=\"T_64b62_row5_col5\" class=\"data row5 col5\" >0.4547</td>\n",
              "      <td id=\"T_64b62_row5_col6\" class=\"data row5 col6\" >0.2797</td>\n",
              "      <td id=\"T_64b62_row5_col7\" class=\"data row5 col7\" >0.2966</td>\n",
              "      <td id=\"T_64b62_row5_col8\" class=\"data row5 col8\" >0.0390</td>\n",
              "    </tr>\n",
              "    <tr>\n",
              "      <th id=\"T_64b62_level0_row6\" class=\"row_heading level0 row6\" >ridge</th>\n",
              "      <td id=\"T_64b62_row6_col0\" class=\"data row6 col0\" >Ridge Classifier</td>\n",
              "      <td id=\"T_64b62_row6_col1\" class=\"data row6 col1\" >0.7150</td>\n",
              "      <td id=\"T_64b62_row6_col2\" class=\"data row6 col2\" >0.0000</td>\n",
              "      <td id=\"T_64b62_row6_col3\" class=\"data row6 col3\" >0.3367</td>\n",
              "      <td id=\"T_64b62_row6_col4\" class=\"data row6 col4\" >0.5710</td>\n",
              "      <td id=\"T_64b62_row6_col5\" class=\"data row6 col5\" >0.3858</td>\n",
              "      <td id=\"T_64b62_row6_col6\" class=\"data row6 col6\" >0.2241</td>\n",
              "      <td id=\"T_64b62_row6_col7\" class=\"data row6 col7\" >0.2516</td>\n",
              "      <td id=\"T_64b62_row6_col8\" class=\"data row6 col8\" >0.0340</td>\n",
              "    </tr>\n",
              "    <tr>\n",
              "      <th id=\"T_64b62_level0_row7\" class=\"row_heading level0 row7\" >gbc</th>\n",
              "      <td id=\"T_64b62_row7_col0\" class=\"data row7 col0\" >Gradient Boosting Classifier</td>\n",
              "      <td id=\"T_64b62_row7_col1\" class=\"data row7 col1\" >0.7050</td>\n",
              "      <td id=\"T_64b62_row7_col2\" class=\"data row7 col2\" >0.7195</td>\n",
              "      <td id=\"T_64b62_row7_col3\" class=\"data row7 col3\" >0.3733</td>\n",
              "      <td id=\"T_64b62_row7_col4\" class=\"data row7 col4\" >0.5017</td>\n",
              "      <td id=\"T_64b62_row7_col5\" class=\"data row7 col5\" >0.4210</td>\n",
              "      <td id=\"T_64b62_row7_col6\" class=\"data row7 col6\" >0.2318</td>\n",
              "      <td id=\"T_64b62_row7_col7\" class=\"data row7 col7\" >0.2390</td>\n",
              "      <td id=\"T_64b62_row7_col8\" class=\"data row7 col8\" >0.0570</td>\n",
              "    </tr>\n",
              "    <tr>\n",
              "      <th id=\"T_64b62_level0_row8\" class=\"row_heading level0 row8\" >dummy</th>\n",
              "      <td id=\"T_64b62_row8_col0\" class=\"data row8 col0\" >Dummy Classifier</td>\n",
              "      <td id=\"T_64b62_row8_col1\" class=\"data row8 col1\" >0.7050</td>\n",
              "      <td id=\"T_64b62_row8_col2\" class=\"data row8 col2\" >0.5000</td>\n",
              "      <td id=\"T_64b62_row8_col3\" class=\"data row8 col3\" >0.0000</td>\n",
              "      <td id=\"T_64b62_row8_col4\" class=\"data row8 col4\" >0.0000</td>\n",
              "      <td id=\"T_64b62_row8_col5\" class=\"data row8 col5\" >0.0000</td>\n",
              "      <td id=\"T_64b62_row8_col6\" class=\"data row8 col6\" >0.0000</td>\n",
              "      <td id=\"T_64b62_row8_col7\" class=\"data row8 col7\" >0.0000</td>\n",
              "      <td id=\"T_64b62_row8_col8\" class=\"data row8 col8\" >0.0450</td>\n",
              "    </tr>\n",
              "    <tr>\n",
              "      <th id=\"T_64b62_level0_row9\" class=\"row_heading level0 row9\" >dt</th>\n",
              "      <td id=\"T_64b62_row9_col0\" class=\"data row9 col0\" >Decision Tree Classifier</td>\n",
              "      <td id=\"T_64b62_row9_col1\" class=\"data row9 col1\" >0.6950</td>\n",
              "      <td id=\"T_64b62_row9_col2\" class=\"data row9 col2\" >0.6464</td>\n",
              "      <td id=\"T_64b62_row9_col3\" class=\"data row9 col3\" >0.5267</td>\n",
              "      <td id=\"T_64b62_row9_col4\" class=\"data row9 col4\" >0.4656</td>\n",
              "      <td id=\"T_64b62_row9_col5\" class=\"data row9 col5\" >0.4716</td>\n",
              "      <td id=\"T_64b62_row9_col6\" class=\"data row9 col6\" >0.2674</td>\n",
              "      <td id=\"T_64b62_row9_col7\" class=\"data row9 col7\" >0.2814</td>\n",
              "      <td id=\"T_64b62_row9_col8\" class=\"data row9 col8\" >0.0430</td>\n",
              "    </tr>\n",
              "    <tr>\n",
              "      <th id=\"T_64b62_level0_row10\" class=\"row_heading level0 row10\" >svm</th>\n",
              "      <td id=\"T_64b62_row10_col0\" class=\"data row10 col0\" >SVM - Linear Kernel</td>\n",
              "      <td id=\"T_64b62_row10_col1\" class=\"data row10 col1\" >0.6950</td>\n",
              "      <td id=\"T_64b62_row10_col2\" class=\"data row10 col2\" >0.0000</td>\n",
              "      <td id=\"T_64b62_row10_col3\" class=\"data row10 col3\" >0.4067</td>\n",
              "      <td id=\"T_64b62_row10_col4\" class=\"data row10 col4\" >0.3936</td>\n",
              "      <td id=\"T_64b62_row10_col5\" class=\"data row10 col5\" >0.3799</td>\n",
              "      <td id=\"T_64b62_row10_col6\" class=\"data row10 col6\" >0.2069</td>\n",
              "      <td id=\"T_64b62_row10_col7\" class=\"data row10 col7\" >0.2058</td>\n",
              "      <td id=\"T_64b62_row10_col8\" class=\"data row10 col8\" >0.0360</td>\n",
              "    </tr>\n",
              "    <tr>\n",
              "      <th id=\"T_64b62_level0_row11\" class=\"row_heading level0 row11\" >lda</th>\n",
              "      <td id=\"T_64b62_row11_col0\" class=\"data row11 col0\" >Linear Discriminant Analysis</td>\n",
              "      <td id=\"T_64b62_row11_col1\" class=\"data row11 col1\" >0.6950</td>\n",
              "      <td id=\"T_64b62_row11_col2\" class=\"data row11 col2\" >0.6782</td>\n",
              "      <td id=\"T_64b62_row11_col3\" class=\"data row11 col3\" >0.3700</td>\n",
              "      <td id=\"T_64b62_row11_col4\" class=\"data row11 col4\" >0.4555</td>\n",
              "      <td id=\"T_64b62_row11_col5\" class=\"data row11 col5\" >0.3956</td>\n",
              "      <td id=\"T_64b62_row11_col6\" class=\"data row11 col6\" >0.2024</td>\n",
              "      <td id=\"T_64b62_row11_col7\" class=\"data row11 col7\" >0.2083</td>\n",
              "      <td id=\"T_64b62_row11_col8\" class=\"data row11 col8\" >0.0410</td>\n",
              "    </tr>\n",
              "    <tr>\n",
              "      <th id=\"T_64b62_level0_row12\" class=\"row_heading level0 row12\" >nb</th>\n",
              "      <td id=\"T_64b62_row12_col0\" class=\"data row12 col0\" >Naive Bayes</td>\n",
              "      <td id=\"T_64b62_row12_col1\" class=\"data row12 col1\" >0.3800</td>\n",
              "      <td id=\"T_64b62_row12_col2\" class=\"data row12 col2\" >0.6916</td>\n",
              "      <td id=\"T_64b62_row12_col3\" class=\"data row12 col3\" >0.9300</td>\n",
              "      <td id=\"T_64b62_row12_col4\" class=\"data row12 col4\" >0.3169</td>\n",
              "      <td id=\"T_64b62_row12_col5\" class=\"data row12 col5\" >0.4710</td>\n",
              "      <td id=\"T_64b62_row12_col6\" class=\"data row12 col6\" >0.0558</td>\n",
              "      <td id=\"T_64b62_row12_col7\" class=\"data row12 col7\" >0.1052</td>\n",
              "      <td id=\"T_64b62_row12_col8\" class=\"data row12 col8\" >0.0410</td>\n",
              "    </tr>\n",
              "    <tr>\n",
              "      <th id=\"T_64b62_level0_row13\" class=\"row_heading level0 row13\" >qda</th>\n",
              "      <td id=\"T_64b62_row13_col0\" class=\"data row13 col0\" >Quadratic Discriminant Analysis</td>\n",
              "      <td id=\"T_64b62_row13_col1\" class=\"data row13 col1\" >0.3750</td>\n",
              "      <td id=\"T_64b62_row13_col2\" class=\"data row13 col2\" >0.5429</td>\n",
              "      <td id=\"T_64b62_row13_col3\" class=\"data row13 col3\" >0.9133</td>\n",
              "      <td id=\"T_64b62_row13_col4\" class=\"data row13 col4\" >0.3104</td>\n",
              "      <td id=\"T_64b62_row13_col5\" class=\"data row13 col5\" >0.4627</td>\n",
              "      <td id=\"T_64b62_row13_col6\" class=\"data row13 col6\" >0.0407</td>\n",
              "      <td id=\"T_64b62_row13_col7\" class=\"data row13 col7\" >0.0909</td>\n",
              "      <td id=\"T_64b62_row13_col8\" class=\"data row13 col8\" >0.0470</td>\n",
              "    </tr>\n",
              "  </tbody>\n",
              "</table>\n"
            ],
            "text/plain": [
              "<pandas.io.formats.style.Styler at 0x1e899aeee30>"
            ]
          },
          "metadata": {},
          "output_type": "display_data"
        },
        {
          "data": {
            "application/json": {
              "ascii": false,
              "bar_format": null,
              "colour": null,
              "elapsed": 0.005175590515136719,
              "initial": 0,
              "n": 0,
              "ncols": null,
              "nrows": null,
              "postfix": null,
              "prefix": "Processing: ",
              "rate": null,
              "total": 61,
              "unit": "it",
              "unit_divisor": 1000,
              "unit_scale": false
            },
            "application/vnd.jupyter.widget-view+json": {
              "model_id": "b373a73947b248fd885c58d0fccdc280",
              "version_major": 2,
              "version_minor": 0
            },
            "text/plain": [
              "Processing:   0%|          | 0/61 [00:00<?, ?it/s]"
            ]
          },
          "metadata": {},
          "output_type": "display_data"
        },
        {
          "data": {
            "text/plain": [
              "KNeighborsClassifier(algorithm='auto', leaf_size=30, metric='minkowski',\n",
              "                     metric_params=None, n_jobs=-1, n_neighbors=5, p=2,\n",
              "                     weights='uniform')"
            ]
          },
          "execution_count": 42,
          "metadata": {},
          "output_type": "execute_result"
        }
      ],
      "source": [
        "best = compare_models()\n",
        "best"
      ]
    },
    {
      "cell_type": "code",
      "execution_count": 40,
      "metadata": {
        "colab": {
          "base_uri": "https://localhost:8080/",
          "height": 431,
          "referenced_widgets": [
            "44aa35ee9f7542449ece8ad9f86737e8",
            "c227913254014448ab61fd3ac79b3dd4",
            "59d63d8150de4d609e46e7dca0484a1e",
            "f0c4c162800a4984ab6ee088466514fe",
            "801a6b3df4fc497aba1c98902e82c9b9",
            "f0b5d93fa2aa4b87bca112c0fafcc6a3",
            "7b6d0a6c1e2b4197a339e852abe83e82"
          ]
        },
        "id": "oWngQFOFRUKH",
        "outputId": "ac474107-b20a-49ec-e1e4-1a268e6c0075"
      },
      "outputs": [
        {
          "data": {
            "application/vnd.jupyter.widget-view+json": {
              "model_id": "404af42931224560a2f24bce6a3378db",
              "version_major": 2,
              "version_minor": 0
            },
            "text/plain": [
              "interactive(children=(ToggleButtons(description='Plot Type:', icons=('',), options=(('Pipeline Plot', 'pipelin…"
            ]
          },
          "metadata": {},
          "output_type": "display_data"
        }
      ],
      "source": [
        "evaluate_model(best)"
      ]
    },
    {
      "cell_type": "code",
      "execution_count": null,
      "metadata": {
        "id": "jK9_f8-WR7sD"
      },
      "outputs": [],
      "source": []
    }
  ],
  "metadata": {
    "colab": {
      "provenance": [],
      "toc_visible": true
    },
    "kernelspec": {
      "display_name": "Python 3",
      "name": "python3"
    },
    "language_info": {
      "codemirror_mode": {
        "name": "ipython",
        "version": 3
      },
      "file_extension": ".py",
      "mimetype": "text/x-python",
      "name": "python",
      "nbconvert_exporter": "python",
      "pygments_lexer": "ipython3",
      "version": "3.10.7"
    },
    "widgets": {
      "application/vnd.jupyter.widget-state+json": {
        "0189fb0ef66d4d6b994cefcc48bcf6ae": {
          "model_module": "@jupyter-widgets/controls",
          "model_module_version": "1.5.0",
          "model_name": "DescriptionStyleModel",
          "state": {
            "_model_module": "@jupyter-widgets/controls",
            "_model_module_version": "1.5.0",
            "_model_name": "DescriptionStyleModel",
            "_view_count": null,
            "_view_module": "@jupyter-widgets/base",
            "_view_module_version": "1.2.0",
            "_view_name": "StyleView",
            "description_width": ""
          }
        },
        "0ae8478e409c4bc9a02e3f53bb171fea": {
          "model_module": "@jupyter-widgets/controls",
          "model_module_version": "1.5.0",
          "model_name": "HTMLModel",
          "state": {
            "_dom_classes": [],
            "_model_module": "@jupyter-widgets/controls",
            "_model_module_version": "1.5.0",
            "_model_name": "HTMLModel",
            "_view_count": null,
            "_view_module": "@jupyter-widgets/controls",
            "_view_module_version": "1.5.0",
            "_view_name": "HTMLView",
            "description": "",
            "description_tooltip": null,
            "layout": "IPY_MODEL_8e28c879dc6c45d596261edd8cefafad",
            "placeholder": "​",
            "style": "IPY_MODEL_0189fb0ef66d4d6b994cefcc48bcf6ae",
            "value": " 65/65 [01:39&lt;00:00,  1.03it/s]"
          }
        },
        "1b2885680edb46e49de4f00bbe101167": {
          "model_module": "@jupyter-widgets/base",
          "model_module_version": "1.2.0",
          "model_name": "LayoutModel",
          "state": {
            "_model_module": "@jupyter-widgets/base",
            "_model_module_version": "1.2.0",
            "_model_name": "LayoutModel",
            "_view_count": null,
            "_view_module": "@jupyter-widgets/base",
            "_view_module_version": "1.2.0",
            "_view_name": "LayoutView",
            "align_content": null,
            "align_items": null,
            "align_self": null,
            "border": null,
            "bottom": null,
            "display": null,
            "flex": null,
            "flex_flow": null,
            "grid_area": null,
            "grid_auto_columns": null,
            "grid_auto_flow": null,
            "grid_auto_rows": null,
            "grid_column": null,
            "grid_gap": null,
            "grid_row": null,
            "grid_template_areas": null,
            "grid_template_columns": null,
            "grid_template_rows": null,
            "height": null,
            "justify_content": null,
            "justify_items": null,
            "left": null,
            "margin": null,
            "max_height": null,
            "max_width": null,
            "min_height": null,
            "min_width": null,
            "object_fit": null,
            "object_position": null,
            "order": null,
            "overflow": null,
            "overflow_x": null,
            "overflow_y": null,
            "padding": null,
            "right": null,
            "top": null,
            "visibility": null,
            "width": null
          }
        },
        "2aaced586bca4e0b9bb7f1f938c303cf": {
          "model_module": "@jupyter-widgets/controls",
          "model_module_version": "1.5.0",
          "model_name": "ProgressStyleModel",
          "state": {
            "_model_module": "@jupyter-widgets/controls",
            "_model_module_version": "1.5.0",
            "_model_name": "ProgressStyleModel",
            "_view_count": null,
            "_view_module": "@jupyter-widgets/base",
            "_view_module_version": "1.2.0",
            "_view_name": "StyleView",
            "bar_color": null,
            "description_width": ""
          }
        },
        "4200e651ed1a4bac88def9bcad4e0a72": {
          "model_module": "@jupyter-widgets/controls",
          "model_module_version": "1.5.0",
          "model_name": "HTMLModel",
          "state": {
            "_dom_classes": [],
            "_model_module": "@jupyter-widgets/controls",
            "_model_module_version": "1.5.0",
            "_model_name": "HTMLModel",
            "_view_count": null,
            "_view_module": "@jupyter-widgets/controls",
            "_view_module_version": "1.5.0",
            "_view_name": "HTMLView",
            "description": "",
            "description_tooltip": null,
            "layout": "IPY_MODEL_6ac2ad4df587450bae1e6b0a45f32e3b",
            "placeholder": "​",
            "style": "IPY_MODEL_b0aadb17962a4ed2a751304160567730",
            "value": "Processing: 100%"
          }
        },
        "44aa35ee9f7542449ece8ad9f86737e8": {
          "model_module": "@jupyter-widgets/controls",
          "model_module_version": "1.5.0",
          "model_name": "VBoxModel",
          "state": {
            "_dom_classes": [
              "widget-interact"
            ],
            "_model_module": "@jupyter-widgets/controls",
            "_model_module_version": "1.5.0",
            "_model_name": "VBoxModel",
            "_view_count": null,
            "_view_module": "@jupyter-widgets/controls",
            "_view_module_version": "1.5.0",
            "_view_name": "VBoxView",
            "box_style": "",
            "children": [
              "IPY_MODEL_c227913254014448ab61fd3ac79b3dd4",
              "IPY_MODEL_59d63d8150de4d609e46e7dca0484a1e"
            ],
            "layout": "IPY_MODEL_f0c4c162800a4984ab6ee088466514fe"
          }
        },
        "59d63d8150de4d609e46e7dca0484a1e": {
          "model_module": "@jupyter-widgets/output",
          "model_module_version": "1.0.0",
          "model_name": "OutputModel",
          "state": {
            "_dom_classes": [],
            "_model_module": "@jupyter-widgets/output",
            "_model_module_version": "1.0.0",
            "_model_name": "OutputModel",
            "_view_count": null,
            "_view_module": "@jupyter-widgets/output",
            "_view_module_version": "1.0.0",
            "_view_name": "OutputView",
            "layout": "IPY_MODEL_7b6d0a6c1e2b4197a339e852abe83e82",
            "msg_id": "",
            "outputs": [
              {
                "data": {
                  "image/png": "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\n",
                  "text/plain": "<Figure size 432x288 with 1 Axes>"
                },
                "metadata": {},
                "output_type": "display_data"
              }
            ]
          }
        },
        "6ac2ad4df587450bae1e6b0a45f32e3b": {
          "model_module": "@jupyter-widgets/base",
          "model_module_version": "1.2.0",
          "model_name": "LayoutModel",
          "state": {
            "_model_module": "@jupyter-widgets/base",
            "_model_module_version": "1.2.0",
            "_model_name": "LayoutModel",
            "_view_count": null,
            "_view_module": "@jupyter-widgets/base",
            "_view_module_version": "1.2.0",
            "_view_name": "LayoutView",
            "align_content": null,
            "align_items": null,
            "align_self": null,
            "border": null,
            "bottom": null,
            "display": null,
            "flex": null,
            "flex_flow": null,
            "grid_area": null,
            "grid_auto_columns": null,
            "grid_auto_flow": null,
            "grid_auto_rows": null,
            "grid_column": null,
            "grid_gap": null,
            "grid_row": null,
            "grid_template_areas": null,
            "grid_template_columns": null,
            "grid_template_rows": null,
            "height": null,
            "justify_content": null,
            "justify_items": null,
            "left": null,
            "margin": null,
            "max_height": null,
            "max_width": null,
            "min_height": null,
            "min_width": null,
            "object_fit": null,
            "object_position": null,
            "order": null,
            "overflow": null,
            "overflow_x": null,
            "overflow_y": null,
            "padding": null,
            "right": null,
            "top": null,
            "visibility": null,
            "width": null
          }
        },
        "7b6d0a6c1e2b4197a339e852abe83e82": {
          "model_module": "@jupyter-widgets/base",
          "model_module_version": "1.2.0",
          "model_name": "LayoutModel",
          "state": {
            "_model_module": "@jupyter-widgets/base",
            "_model_module_version": "1.2.0",
            "_model_name": "LayoutModel",
            "_view_count": null,
            "_view_module": "@jupyter-widgets/base",
            "_view_module_version": "1.2.0",
            "_view_name": "LayoutView",
            "align_content": null,
            "align_items": null,
            "align_self": null,
            "border": null,
            "bottom": null,
            "display": null,
            "flex": null,
            "flex_flow": null,
            "grid_area": null,
            "grid_auto_columns": null,
            "grid_auto_flow": null,
            "grid_auto_rows": null,
            "grid_column": null,
            "grid_gap": null,
            "grid_row": null,
            "grid_template_areas": null,
            "grid_template_columns": null,
            "grid_template_rows": null,
            "height": null,
            "justify_content": null,
            "justify_items": null,
            "left": null,
            "margin": null,
            "max_height": null,
            "max_width": null,
            "min_height": null,
            "min_width": null,
            "object_fit": null,
            "object_position": null,
            "order": null,
            "overflow": null,
            "overflow_x": null,
            "overflow_y": null,
            "padding": null,
            "right": null,
            "top": null,
            "visibility": null,
            "width": null
          }
        },
        "801a6b3df4fc497aba1c98902e82c9b9": {
          "model_module": "@jupyter-widgets/base",
          "model_module_version": "1.2.0",
          "model_name": "LayoutModel",
          "state": {
            "_model_module": "@jupyter-widgets/base",
            "_model_module_version": "1.2.0",
            "_model_name": "LayoutModel",
            "_view_count": null,
            "_view_module": "@jupyter-widgets/base",
            "_view_module_version": "1.2.0",
            "_view_name": "LayoutView",
            "align_content": null,
            "align_items": null,
            "align_self": null,
            "border": null,
            "bottom": null,
            "display": null,
            "flex": null,
            "flex_flow": null,
            "grid_area": null,
            "grid_auto_columns": null,
            "grid_auto_flow": null,
            "grid_auto_rows": null,
            "grid_column": null,
            "grid_gap": null,
            "grid_row": null,
            "grid_template_areas": null,
            "grid_template_columns": null,
            "grid_template_rows": null,
            "height": null,
            "justify_content": null,
            "justify_items": null,
            "left": null,
            "margin": null,
            "max_height": null,
            "max_width": null,
            "min_height": null,
            "min_width": null,
            "object_fit": null,
            "object_position": null,
            "order": null,
            "overflow": null,
            "overflow_x": null,
            "overflow_y": null,
            "padding": null,
            "right": null,
            "top": null,
            "visibility": null,
            "width": null
          }
        },
        "8e28c879dc6c45d596261edd8cefafad": {
          "model_module": "@jupyter-widgets/base",
          "model_module_version": "1.2.0",
          "model_name": "LayoutModel",
          "state": {
            "_model_module": "@jupyter-widgets/base",
            "_model_module_version": "1.2.0",
            "_model_name": "LayoutModel",
            "_view_count": null,
            "_view_module": "@jupyter-widgets/base",
            "_view_module_version": "1.2.0",
            "_view_name": "LayoutView",
            "align_content": null,
            "align_items": null,
            "align_self": null,
            "border": null,
            "bottom": null,
            "display": null,
            "flex": null,
            "flex_flow": null,
            "grid_area": null,
            "grid_auto_columns": null,
            "grid_auto_flow": null,
            "grid_auto_rows": null,
            "grid_column": null,
            "grid_gap": null,
            "grid_row": null,
            "grid_template_areas": null,
            "grid_template_columns": null,
            "grid_template_rows": null,
            "height": null,
            "justify_content": null,
            "justify_items": null,
            "left": null,
            "margin": null,
            "max_height": null,
            "max_width": null,
            "min_height": null,
            "min_width": null,
            "object_fit": null,
            "object_position": null,
            "order": null,
            "overflow": null,
            "overflow_x": null,
            "overflow_y": null,
            "padding": null,
            "right": null,
            "top": null,
            "visibility": null,
            "width": null
          }
        },
        "b0aadb17962a4ed2a751304160567730": {
          "model_module": "@jupyter-widgets/controls",
          "model_module_version": "1.5.0",
          "model_name": "DescriptionStyleModel",
          "state": {
            "_model_module": "@jupyter-widgets/controls",
            "_model_module_version": "1.5.0",
            "_model_name": "DescriptionStyleModel",
            "_view_count": null,
            "_view_module": "@jupyter-widgets/base",
            "_view_module_version": "1.2.0",
            "_view_name": "StyleView",
            "description_width": ""
          }
        },
        "c227913254014448ab61fd3ac79b3dd4": {
          "model_module": "@jupyter-widgets/controls",
          "model_module_version": "1.5.0",
          "model_name": "ToggleButtonsModel",
          "state": {
            "_dom_classes": [],
            "_model_module": "@jupyter-widgets/controls",
            "_model_module_version": "1.5.0",
            "_model_name": "ToggleButtonsModel",
            "_options_labels": [
              "Pipeline Plot",
              "Hyperparameters",
              "AUC",
              "Confusion Matrix",
              "Threshold",
              "Precision Recall",
              "Prediction Error",
              "Class Report",
              "Feature Selection",
              "Learning Curve",
              "Manifold Learning",
              "Calibration Curve",
              "Validation Curve",
              "Dimensions",
              "Feature Importance",
              "Feature Importance (All)",
              "Decision Boundary",
              "Lift Chart",
              "Gain Chart",
              "Decision Tree",
              "KS Statistic Plot"
            ],
            "_view_count": null,
            "_view_module": "@jupyter-widgets/controls",
            "_view_module_version": "1.5.0",
            "_view_name": "ToggleButtonsView",
            "button_style": "",
            "description": "Plot Type:",
            "description_tooltip": null,
            "disabled": false,
            "icons": [
              ""
            ],
            "index": 13,
            "layout": "IPY_MODEL_801a6b3df4fc497aba1c98902e82c9b9",
            "style": "IPY_MODEL_f0b5d93fa2aa4b87bca112c0fafcc6a3",
            "tooltips": []
          }
        },
        "c2e58f02cbd94440bf7201737fd2eda8": {
          "model_module": "@jupyter-widgets/controls",
          "model_module_version": "1.5.0",
          "model_name": "HBoxModel",
          "state": {
            "_dom_classes": [],
            "_model_module": "@jupyter-widgets/controls",
            "_model_module_version": "1.5.0",
            "_model_name": "HBoxModel",
            "_view_count": null,
            "_view_module": "@jupyter-widgets/controls",
            "_view_module_version": "1.5.0",
            "_view_name": "HBoxView",
            "box_style": "",
            "children": [
              "IPY_MODEL_4200e651ed1a4bac88def9bcad4e0a72",
              "IPY_MODEL_f9596a3c9ed74becae0fee4226495d46",
              "IPY_MODEL_0ae8478e409c4bc9a02e3f53bb171fea"
            ],
            "layout": "IPY_MODEL_e69471e13f134233aea6b6e579bece93"
          }
        },
        "e69471e13f134233aea6b6e579bece93": {
          "model_module": "@jupyter-widgets/base",
          "model_module_version": "1.2.0",
          "model_name": "LayoutModel",
          "state": {
            "_model_module": "@jupyter-widgets/base",
            "_model_module_version": "1.2.0",
            "_model_name": "LayoutModel",
            "_view_count": null,
            "_view_module": "@jupyter-widgets/base",
            "_view_module_version": "1.2.0",
            "_view_name": "LayoutView",
            "align_content": null,
            "align_items": null,
            "align_self": null,
            "border": null,
            "bottom": null,
            "display": null,
            "flex": null,
            "flex_flow": null,
            "grid_area": null,
            "grid_auto_columns": null,
            "grid_auto_flow": null,
            "grid_auto_rows": null,
            "grid_column": null,
            "grid_gap": null,
            "grid_row": null,
            "grid_template_areas": null,
            "grid_template_columns": null,
            "grid_template_rows": null,
            "height": null,
            "justify_content": null,
            "justify_items": null,
            "left": null,
            "margin": null,
            "max_height": null,
            "max_width": null,
            "min_height": null,
            "min_width": null,
            "object_fit": null,
            "object_position": null,
            "order": null,
            "overflow": null,
            "overflow_x": null,
            "overflow_y": null,
            "padding": null,
            "right": null,
            "top": null,
            "visibility": "hidden",
            "width": null
          }
        },
        "f0b5d93fa2aa4b87bca112c0fafcc6a3": {
          "model_module": "@jupyter-widgets/controls",
          "model_module_version": "1.5.0",
          "model_name": "ToggleButtonsStyleModel",
          "state": {
            "_model_module": "@jupyter-widgets/controls",
            "_model_module_version": "1.5.0",
            "_model_name": "ToggleButtonsStyleModel",
            "_view_count": null,
            "_view_module": "@jupyter-widgets/base",
            "_view_module_version": "1.2.0",
            "_view_name": "StyleView",
            "button_width": "",
            "description_width": "",
            "font_weight": ""
          }
        },
        "f0c4c162800a4984ab6ee088466514fe": {
          "model_module": "@jupyter-widgets/base",
          "model_module_version": "1.2.0",
          "model_name": "LayoutModel",
          "state": {
            "_model_module": "@jupyter-widgets/base",
            "_model_module_version": "1.2.0",
            "_model_name": "LayoutModel",
            "_view_count": null,
            "_view_module": "@jupyter-widgets/base",
            "_view_module_version": "1.2.0",
            "_view_name": "LayoutView",
            "align_content": null,
            "align_items": null,
            "align_self": null,
            "border": null,
            "bottom": null,
            "display": null,
            "flex": null,
            "flex_flow": null,
            "grid_area": null,
            "grid_auto_columns": null,
            "grid_auto_flow": null,
            "grid_auto_rows": null,
            "grid_column": null,
            "grid_gap": null,
            "grid_row": null,
            "grid_template_areas": null,
            "grid_template_columns": null,
            "grid_template_rows": null,
            "height": null,
            "justify_content": null,
            "justify_items": null,
            "left": null,
            "margin": null,
            "max_height": null,
            "max_width": null,
            "min_height": null,
            "min_width": null,
            "object_fit": null,
            "object_position": null,
            "order": null,
            "overflow": null,
            "overflow_x": null,
            "overflow_y": null,
            "padding": null,
            "right": null,
            "top": null,
            "visibility": null,
            "width": null
          }
        },
        "f9596a3c9ed74becae0fee4226495d46": {
          "model_module": "@jupyter-widgets/controls",
          "model_module_version": "1.5.0",
          "model_name": "FloatProgressModel",
          "state": {
            "_dom_classes": [],
            "_model_module": "@jupyter-widgets/controls",
            "_model_module_version": "1.5.0",
            "_model_name": "FloatProgressModel",
            "_view_count": null,
            "_view_module": "@jupyter-widgets/controls",
            "_view_module_version": "1.5.0",
            "_view_name": "ProgressView",
            "bar_style": "",
            "description": "",
            "description_tooltip": null,
            "layout": "IPY_MODEL_1b2885680edb46e49de4f00bbe101167",
            "max": 65,
            "min": 0,
            "orientation": "horizontal",
            "style": "IPY_MODEL_2aaced586bca4e0b9bb7f1f938c303cf",
            "value": 65
          }
        }
      }
    }
  },
  "nbformat": 4,
  "nbformat_minor": 0
}
